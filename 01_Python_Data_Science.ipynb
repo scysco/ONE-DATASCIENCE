{
  "nbformat": 4,
  "nbformat_minor": 0,
  "metadata": {
    "colab": {
      "provenance": [],
      "include_colab_link": true
    },
    "kernelspec": {
      "name": "python3",
      "display_name": "Python 3"
    },
    "language_info": {
      "name": "python"
    }
  },
  "cells": [
    {
      "cell_type": "markdown",
      "metadata": {
        "id": "view-in-github",
        "colab_type": "text"
      },
      "source": [
        "<a href=\"https://colab.research.google.com/github/scysco/ONE-DATASCIENCE/blob/main/01_Python_Data_Science.ipynb\" target=\"_parent\"><img src=\"https://colab.research.google.com/assets/colab-badge.svg\" alt=\"Open In Colab\"/></a>"
      ]
    },
    {
      "cell_type": "markdown",
      "source": [
        "# Python para Data Science\n",
        "\n",
        "Notebook para el curso de Python para Data Science publicado en la plataforma de [Alura Latam](https://www.aluracursos.com/)"
      ],
      "metadata": {
        "id": "lQx6Mmv0OJyT"
      }
    },
    {
      "cell_type": "markdown",
      "source": [
        "# Introducción a Python\n",
        "¡Vamos a conocer Python, nuestro ambiente de estudio, y también generaremos nuestro primer código en este lenguaje!"
      ],
      "metadata": {
        "id": "7SiB6JIpYKmY"
      }
    },
    {
      "cell_type": "markdown",
      "source": [
        "## Google Colaboratory\n",
        "\n",
        "Ya aprendimos qué es [Python](https://www.python.org/) y ahora aprenderemos a usar nuestra herramienta de ejecución [Google Colaboratory](https://colab.research.google.com/) para programar en un notebook interactivo.\n",
        "\n",
        "Vamos a probar algunas funciones de este ambiente."
      ],
      "metadata": {
        "id": "Yugfb3fCOYY9"
      }
    },
    {
      "cell_type": "markdown",
      "source": [
        " **`>>> Usa esta celda para mover <<<`**"
      ],
      "metadata": {
        "id": "2iUHQsJasJAk"
      }
    },
    {
      "cell_type": "code",
      "source": [],
      "metadata": {
        "id": "o7jrX_iKhdkU"
      },
      "execution_count": null,
      "outputs": []
    },
    {
      "cell_type": "markdown",
      "source": [
        "## ¡Hola mundo!\n",
        "\n",
        "Vamos a conocer un poco más de cerca nuestro notebook. Para ello ejecutaremos nuestro primer comando en Python: [`print()`](https://docs.python.org/3/library/functions.html#print)"
      ],
      "metadata": {
        "id": "aLSFP2V7XTfe"
      }
    },
    {
      "cell_type": "code",
      "source": [
        "print('Hola mundo')"
      ],
      "metadata": {
        "id": "0qZX8_ZQBYyk",
        "colab": {
          "base_uri": "https://localhost:8080/"
        },
        "outputId": "9c18e2d5-a02e-497a-9552-21218590a55c"
      },
      "execution_count": null,
      "outputs": [
        {
          "output_type": "stream",
          "name": "stdout",
          "text": [
            "Hola mundo\n"
          ]
        }
      ]
    },
    {
      "cell_type": "code",
      "source": [
        "15"
      ],
      "metadata": {
        "id": "GLMzF_AKBY7a",
        "colab": {
          "base_uri": "https://localhost:8080/"
        },
        "outputId": "af431a7f-3301-4dc6-c332-d83bef00fe81"
      },
      "execution_count": null,
      "outputs": [
        {
          "output_type": "execute_result",
          "data": {
            "text/plain": [
              "15"
            ]
          },
          "metadata": {},
          "execution_count": 9
        }
      ]
    },
    {
      "cell_type": "code",
      "source": [
        "print('Alt+Enter')"
      ],
      "metadata": {
        "colab": {
          "base_uri": "https://localhost:8080/"
        },
        "id": "q3N0IGFZ_y-2",
        "outputId": "7fbe700c-3202-40b4-f03b-9411396d4052"
      },
      "execution_count": null,
      "outputs": [
        {
          "output_type": "stream",
          "name": "stdout",
          "text": [
            "Alt+Enter\n"
          ]
        }
      ]
    },
    {
      "cell_type": "markdown",
      "source": [
        "# **Desafio Unidad 1**"
      ],
      "metadata": {
        "id": "AHO6CDFo2dJ8"
      }
    },
    {
      "cell_type": "code",
      "source": [
        "print('Escuela de Datos de Alura')"
      ],
      "metadata": {
        "colab": {
          "base_uri": "https://localhost:8080/"
        },
        "id": "a8abHdbAAHvP",
        "outputId": "81ced36e-3ed9-47d0-961c-a0e6c2e0feab"
      },
      "execution_count": null,
      "outputs": [
        {
          "output_type": "stream",
          "name": "stdout",
          "text": [
            "Escuela de Datos de Alura\n"
          ]
        }
      ]
    },
    {
      "cell_type": "code",
      "source": [
        "print('Nombre: Jesus \\nApellido: Sanchez')"
      ],
      "metadata": {
        "colab": {
          "base_uri": "https://localhost:8080/"
        },
        "id": "xJ5MeXxWAKgy",
        "outputId": "c5d76ffb-34d6-4147-bec1-600feb350936"
      },
      "execution_count": null,
      "outputs": [
        {
          "output_type": "stream",
          "name": "stdout",
          "text": [
            "Nombre: Jesus \n",
            "Apellido: Sanchez\n"
          ]
        }
      ]
    },
    {
      "cell_type": "code",
      "source": [
        "nombre = \"Jesus Sanchez\"\n",
        "for letra in nombre: print(letra)"
      ],
      "metadata": {
        "colab": {
          "base_uri": "https://localhost:8080/"
        },
        "id": "z25KOtkKAYc5",
        "outputId": "70d9de0c-ca35-4a40-f8bd-21dffc610cdb"
      },
      "execution_count": null,
      "outputs": [
        {
          "output_type": "stream",
          "name": "stdout",
          "text": [
            "J\n",
            "e\n",
            "s\n",
            "u\n",
            "s\n",
            " \n",
            "S\n",
            "a\n",
            "n\n",
            "c\n",
            "h\n",
            "e\n",
            "z\n"
          ]
        }
      ]
    },
    {
      "cell_type": "code",
      "source": [
        "anio= 1997\n",
        "mes = \"Abril\"\n",
        "dia = 8\n",
        "print (f\"{dia} {mes} {anio}\")"
      ],
      "metadata": {
        "colab": {
          "base_uri": "https://localhost:8080/"
        },
        "id": "3POa0Mz2A_HI",
        "outputId": "c794f67e-8c7f-425c-a1a8-b48af8b05558"
      },
      "execution_count": null,
      "outputs": [
        {
          "output_type": "stream",
          "name": "stdout",
          "text": [
            "8 Abril 1997\n"
          ]
        }
      ]
    },
    {
      "cell_type": "code",
      "source": [
        "print(\"Año actual: \",2025)"
      ],
      "metadata": {
        "colab": {
          "base_uri": "https://localhost:8080/"
        },
        "id": "OygGtqBCCIcV",
        "outputId": "a9919a32-993f-42a9-8231-71d4371053f0"
      },
      "execution_count": null,
      "outputs": [
        {
          "output_type": "stream",
          "name": "stdout",
          "text": [
            "Año actual:  2025\n"
          ]
        }
      ]
    },
    {
      "cell_type": "markdown",
      "source": [
        "# Manipulando los datos\n",
        "\n",
        "Vamos a aprender sobre las variables en Python, cómo declararlas y utilizarlas además de conocer otros comandos de este lenguaje. :D"
      ],
      "metadata": {
        "id": "iP8uWQmFYFRs"
      }
    },
    {
      "cell_type": "markdown",
      "source": [
        "## Variables\n",
        "\n",
        "En Data Science trabajamos con varios tipos de datos e informaciones, entonces es esencial saber cómo trabajar con las variables."
      ],
      "metadata": {
        "id": "sLNVmnTbag1Z"
      }
    },
    {
      "cell_type": "markdown",
      "source": [
        "Las variables en Python se crean cuando atribuimos un valor a ella.\n",
        "\n",
        "Para esto, colocamos el nombre de la variable, el signo de igual (`=`) y el valor que queremos atribuirle."
      ],
      "metadata": {
        "id": "lsCY0wahAbf6"
      }
    },
    {
      "cell_type": "code",
      "source": [
        "5"
      ],
      "metadata": {
        "id": "vsHh5buZADND",
        "outputId": "061c24f9-8d9b-4014-e010-9b39b94b3536",
        "colab": {
          "base_uri": "https://localhost:8080/"
        }
      },
      "execution_count": null,
      "outputs": [
        {
          "output_type": "execute_result",
          "data": {
            "text/plain": [
              "5"
            ]
          },
          "metadata": {},
          "execution_count": 1
        }
      ]
    },
    {
      "cell_type": "code",
      "source": [
        "id(5)"
      ],
      "metadata": {
        "id": "dU2gBRoGECqL",
        "outputId": "02feab1f-587b-4619-f1b7-282253096926",
        "colab": {
          "base_uri": "https://localhost:8080/"
        }
      },
      "execution_count": null,
      "outputs": [
        {
          "output_type": "execute_result",
          "data": {
            "text/plain": [
              "10757864"
            ]
          },
          "metadata": {},
          "execution_count": 2
        }
      ]
    },
    {
      "cell_type": "code",
      "source": [
        "edad = 5"
      ],
      "metadata": {
        "id": "NMGthFMkEHx4"
      },
      "execution_count": null,
      "outputs": []
    },
    {
      "cell_type": "code",
      "source": [
        "print(id(edad))\n",
        "print(id(5))"
      ],
      "metadata": {
        "id": "6Du1ELE2ELfY",
        "outputId": "909c1db0-5dfa-45e2-9a66-bcb85205fb19",
        "colab": {
          "base_uri": "https://localhost:8080/"
        }
      },
      "execution_count": null,
      "outputs": [
        {
          "output_type": "stream",
          "name": "stdout",
          "text": [
            "10757864\n",
            "10757864\n"
          ]
        }
      ]
    },
    {
      "cell_type": "code",
      "source": [
        "num_cinco = 5"
      ],
      "metadata": {
        "id": "8upeuh3AERxW"
      },
      "execution_count": null,
      "outputs": []
    },
    {
      "cell_type": "code",
      "source": [
        "id(num_cinco)"
      ],
      "metadata": {
        "id": "sivPtqSjADQV",
        "outputId": "6915c08d-3f59-4ffb-94c7-d89b9cab044b",
        "colab": {
          "base_uri": "https://localhost:8080/"
        }
      },
      "execution_count": null,
      "outputs": [
        {
          "output_type": "execute_result",
          "data": {
            "text/plain": [
              "10757864"
            ]
          },
          "metadata": {},
          "execution_count": 6
        }
      ]
    },
    {
      "cell_type": "code",
      "source": [
        "nombre = 'Jesus'"
      ],
      "metadata": {
        "id": "eC3WtKBtEoof"
      },
      "execution_count": null,
      "outputs": []
    },
    {
      "cell_type": "code",
      "source": [
        "id('Jesus')"
      ],
      "metadata": {
        "id": "JC8jO47wADlm",
        "outputId": "73a6c349-3074-49db-c83b-779792531499",
        "colab": {
          "base_uri": "https://localhost:8080/"
        }
      },
      "execution_count": null,
      "outputs": [
        {
          "output_type": "execute_result",
          "data": {
            "text/plain": [
              "134458826604720"
            ]
          },
          "metadata": {},
          "execution_count": 12
        }
      ]
    },
    {
      "cell_type": "code",
      "source": [
        "id(nombre)"
      ],
      "metadata": {
        "id": "vYuvACCwE2_-",
        "outputId": "994fc3d2-bdd0-4104-8c0f-99e5edd7009b",
        "colab": {
          "base_uri": "https://localhost:8080/"
        }
      },
      "execution_count": null,
      "outputs": [
        {
          "output_type": "execute_result",
          "data": {
            "text/plain": [
              "134458826604720"
            ]
          },
          "metadata": {},
          "execution_count": 13
        }
      ]
    },
    {
      "cell_type": "markdown",
      "source": [
        "Existen algunos tipos de nomes que **no** podemos definir para las variables:\n",
        "\n",
        "- **Nombres que comiencen con números**\n",
        "  - Ejemplos: `10_notas`, `2_nombre_casa`, etc.\n",
        "- **Palabras separadas por espacio**\n",
        "  - Ejemplos: `Nombre escuela`, `notas estudiantes`, etc.\n",
        "- **Nombres de funciones de Python**\n",
        "  - Ejemplos: `print`, `type`, etc."
      ],
      "metadata": {
        "id": "om2N0jHKAzwL"
      }
    },
    {
      "cell_type": "markdown",
      "source": [
        "> Las letras mayúsculas y minúsculas generarán diferentes variables. La variable `edad` es diferente de `Edad` que a su vez es diferente de `EDAD`:\n",
        "``` Python\n",
        "edad = 1\n",
        "Edad = 2\n",
        "EDAD = 3\n",
        "_edad = 4\n",
        "_edad_ = 5\n",
        "print(edad, Edad, EDAD, _edad, _edad_)\n",
        "1 2 3 4 5\n",
        "```"
      ],
      "metadata": {
        "id": "A19vY2GVMujB"
      }
    },
    {
      "cell_type": "markdown",
      "source": [
        "## Tipos de variables\n",
        "\n",
        "Cada variable contiene una clase específica con respecto al tipo de objeto al cual esta hace referencia. Estas clases serán diferentes de acuerdo con el tipo de dato que le sea atribuido a una variable.\n",
        "\n",
        "Para conocer la clase de cada elemento usamos la función [`type()`](https://docs.python.org/3/library/functions.html#type)"
      ],
      "metadata": {
        "id": "UqhzuBhBHsps"
      }
    },
    {
      "cell_type": "code",
      "source": [
        "# Este es un comentario de una línea"
      ],
      "metadata": {
        "id": "J5a9t73A_-PX"
      },
      "execution_count": null,
      "outputs": []
    },
    {
      "cell_type": "code",
      "source": [
        "'''\n",
        "Este es un comentario\n",
        "de varias líneas.\n",
        "'''"
      ],
      "metadata": {
        "id": "_NzCOwmRFdIe",
        "outputId": "b3c4e172-5f34-4e2d-852f-563342da82b7",
        "colab": {
          "base_uri": "https://localhost:8080/",
          "height": 35
        }
      },
      "execution_count": null,
      "outputs": [
        {
          "output_type": "execute_result",
          "data": {
            "text/plain": [
              "'\\nEste es un comentario\\nde varias líneas.\\n'"
            ],
            "application/vnd.google.colaboratory.intrinsic+json": {
              "type": "string"
            }
          },
          "metadata": {},
          "execution_count": 15
        }
      ]
    },
    {
      "cell_type": "code",
      "source": [
        "edad=5"
      ],
      "metadata": {
        "id": "ksJP5J-AFfHV"
      },
      "execution_count": null,
      "outputs": []
    },
    {
      "cell_type": "code",
      "source": [
        "type(edad)"
      ],
      "metadata": {
        "id": "MjFjvWQjF269",
        "outputId": "f0e4d260-4a56-4197-8984-d4bcede30542",
        "colab": {
          "base_uri": "https://localhost:8080/"
        }
      },
      "execution_count": null,
      "outputs": [
        {
          "output_type": "execute_result",
          "data": {
            "text/plain": [
              "int"
            ]
          },
          "metadata": {},
          "execution_count": 17
        }
      ]
    },
    {
      "cell_type": "code",
      "source": [
        "promedio = 9.5"
      ],
      "metadata": {
        "id": "4w1AWPIHF5SN"
      },
      "execution_count": null,
      "outputs": []
    },
    {
      "cell_type": "code",
      "source": [
        "type(promedio)"
      ],
      "metadata": {
        "id": "r320iaiDF9HU",
        "outputId": "8ff5652a-57f1-4a2d-b887-830c0fb978bd",
        "colab": {
          "base_uri": "https://localhost:8080/"
        }
      },
      "execution_count": null,
      "outputs": [
        {
          "output_type": "execute_result",
          "data": {
            "text/plain": [
              "float"
            ]
          },
          "metadata": {},
          "execution_count": 19
        }
      ]
    },
    {
      "cell_type": "code",
      "source": [
        "aprobado = True"
      ],
      "metadata": {
        "id": "-KfUWLiGGAjM"
      },
      "execution_count": null,
      "outputs": []
    },
    {
      "cell_type": "code",
      "source": [
        "type(aprobado)"
      ],
      "metadata": {
        "id": "a-etMf_9GIzr",
        "outputId": "96aebd78-03bf-4168-a4a0-031975bb97d3",
        "colab": {
          "base_uri": "https://localhost:8080/"
        }
      },
      "execution_count": null,
      "outputs": [
        {
          "output_type": "execute_result",
          "data": {
            "text/plain": [
              "bool"
            ]
          },
          "metadata": {},
          "execution_count": 21
        }
      ]
    },
    {
      "cell_type": "markdown",
      "source": [
        "En un conjunto de datos escolares podemos tener varios tipos de informaciones. Supongamos que tenemos acceso a la ficha de datos del alumno *Penélope Camacho*, cómo transformamos este nombre en variables de Python?\n",
        "\n",
        "#### Ficha:\n",
        "\n",
        "- Nombre: Penélope Camacho\n",
        "- Edad: 11 años\n",
        "- Promedio del semestre: 9,75\n",
        "- Situación de aprobación: Verdadera (aprobado)"
      ],
      "metadata": {
        "id": "O-FxDumfWu0C"
      }
    },
    {
      "cell_type": "code",
      "source": [
        "estudiante_nombre = \"Penélope Camacho\"\n",
        "estudiante_edad = 11\n",
        "estudiante_promedio =  9.75\n",
        "estudiante_aprobado = True\n",
        "\n",
        "print(estudiante_nombre, estudiante_edad, estudiante_promedio, estudiante_aprobado)\n",
        "\n",
        "print(type(estudiante_nombre), type(estudiante_edad), type(estudiante_promedio), type(estudiante_aprobado))\n"
      ],
      "metadata": {
        "id": "FabQ7jQf_8Xt",
        "outputId": "a0a2b7aa-cea9-476d-f525-53e03dc2ab32",
        "colab": {
          "base_uri": "https://localhost:8080/"
        }
      },
      "execution_count": null,
      "outputs": [
        {
          "output_type": "stream",
          "name": "stdout",
          "text": [
            "Penélope Camacho 11 9.75 True\n",
            "<class 'str'> <class 'int'> <class 'float'> <class 'bool'>\n"
          ]
        }
      ]
    },
    {
      "cell_type": "markdown",
      "source": [
        "## Variables numéricas\n",
        "\n",
        "Entre los tipos de datos numéricos vamos a enfocarnos en los tipos `entero` y `float`."
      ],
      "metadata": {
        "id": "KFq_8Sxf-OG0"
      }
    },
    {
      "cell_type": "markdown",
      "source": [
        "Tenemos una tabla de información sobre los diversos cargos, cantidad de personas empleadas y el salario correspondiente:\n",
        "\n",
        "|Cargo | Cantidad | Salario|\n",
        "|---|---|---|\n",
        "|Vigilante | 5 | 300 |\n",
        "|Docente | 16| 500|\n",
        "|Coordinador| 2 |600|\n",
        "\n",
        "Necesitamos trabajar con estos datos para obtener:\n",
        "\n",
        "- La cantidad total de empleados;\n",
        "- La diferencia entre el salario más bajo y más alto; y\n",
        "- El promedio ponderado de los salarios de los empleados de la escuela."
      ],
      "metadata": {
        "id": "8_HYUbkVYdQY"
      }
    },
    {
      "cell_type": "code",
      "source": [
        "v_cantidad = 5\n",
        "v_salario = 300\n",
        "\n",
        "d_cantidad = 16\n",
        "d_salario = 500\n",
        "\n",
        "c_cantidad = 2\n",
        "c_salario = 600"
      ],
      "metadata": {
        "id": "fIugsxNy_53j"
      },
      "execution_count": null,
      "outputs": []
    },
    {
      "cell_type": "code",
      "source": [
        "empleados_total = c_cantidad + d_cantidad + v_cantidad\n",
        "empleados_total"
      ],
      "metadata": {
        "id": "MxBiKjjAHtK8",
        "outputId": "6ba54c5c-5d51-4d8a-ac1a-66bb9970605a",
        "colab": {
          "base_uri": "https://localhost:8080/"
        }
      },
      "execution_count": null,
      "outputs": [
        {
          "output_type": "execute_result",
          "data": {
            "text/plain": [
              "23"
            ]
          },
          "metadata": {},
          "execution_count": 25
        }
      ]
    },
    {
      "cell_type": "code",
      "source": [
        "diferencia_salario = c_salario - v_salario\n",
        "diferencia_salario"
      ],
      "metadata": {
        "id": "AMcundYNH4v6",
        "outputId": "3c798c03-a158-4f34-e5a1-a23482831e34",
        "colab": {
          "base_uri": "https://localhost:8080/"
        }
      },
      "execution_count": null,
      "outputs": [
        {
          "output_type": "execute_result",
          "data": {
            "text/plain": [
              "300"
            ]
          },
          "metadata": {},
          "execution_count": 26
        }
      ]
    },
    {
      "cell_type": "code",
      "source": [
        "promedio_salarios = (v_cantidad*v_salario+d_cantidad*d_salario+c_cantidad*c_salario)/empleados_total\n",
        "promedio_salarios"
      ],
      "metadata": {
        "id": "IGRgGlUQINN3",
        "outputId": "42c253be-814c-4f8c-d9d7-419e54d6dd02",
        "colab": {
          "base_uri": "https://localhost:8080/"
        }
      },
      "execution_count": null,
      "outputs": [
        {
          "output_type": "execute_result",
          "data": {
            "text/plain": [
              "465.2173913043478"
            ]
          },
          "metadata": {},
          "execution_count": 31
        }
      ]
    },
    {
      "cell_type": "markdown",
      "source": [
        "## Strings"
      ],
      "metadata": {
        "id": "yQy7b0ZWoD-P"
      }
    },
    {
      "cell_type": "markdown",
      "source": [
        "Strings hace referencia a un conjunto de caracteres formando un texto.\n",
        "\n",
        "Podemos crear Strings cuando atribuimos un dato a una variable entre comillas sencillas (`'`) o comillas dobles (`\"`)."
      ],
      "metadata": {
        "id": "vlo2-DXusv3s"
      }
    },
    {
      "cell_type": "code",
      "source": [
        "print(\"Hola\",'mundo')"
      ],
      "metadata": {
        "id": "ityEWqvh_2wK",
        "colab": {
          "base_uri": "https://localhost:8080/"
        },
        "outputId": "5f9a2f69-056d-4e77-833e-48227786d143"
      },
      "execution_count": null,
      "outputs": [
        {
          "output_type": "stream",
          "name": "stdout",
          "text": [
            "Hola mundo\n"
          ]
        }
      ]
    },
    {
      "cell_type": "markdown",
      "source": [
        "Las variables textuales son objetos que poseen métodos que nos ayudan a formatear strings. Los métodos los podemos ejecutar al definir un objeto de acuerdo con la siguiente estructura:\n",
        "\n",
        "```\n",
        "objeto.metodo()\n",
        "```\n",
        "\n",
        "Existen métodos que no necesitan los `()`, siempre es una buena práctica verificar la documentación para cada caso."
      ],
      "metadata": {
        "id": "2e9UD_CCxqz_"
      }
    },
    {
      "cell_type": "markdown",
      "source": [
        "---\n",
        "**Situación:**\n",
        "\n",
        "Recibimos una variable con el nombre de una profesora de la escuela para añadirla a los registros. Sin embargo, necesitamos darle un tratamiento a este texto antes de insertarlo al sistema."
      ],
      "metadata": {
        "id": "p6aPmMGP4tf9"
      }
    },
    {
      "cell_type": "code",
      "source": [
        "texto = '  Micaela de los Sanyos '"
      ],
      "metadata": {
        "id": "icDWtYTjBO0n"
      },
      "execution_count": null,
      "outputs": []
    },
    {
      "cell_type": "markdown",
      "source": [
        "El objetivo final es que el nombre aparezca de la siguiente forma:\n",
        "\n",
        "```\n",
        "'MICAELA DE LOS SANTOS'\n",
        "```"
      ],
      "metadata": {
        "id": "Dg2ZXSZOGzjC"
      }
    },
    {
      "cell_type": "markdown",
      "source": [
        "### [`str.upper()` ](https://docs.python.org/3/library/stdtypes.html#str.upper)\n",
        "Convierte una string a mayúsculas."
      ],
      "metadata": {
        "id": "iVTAD8q702eN"
      }
    },
    {
      "cell_type": "code",
      "source": [
        "texto.upper()"
      ],
      "metadata": {
        "id": "wMVshJrY_ZXh",
        "colab": {
          "base_uri": "https://localhost:8080/",
          "height": 35
        },
        "outputId": "4fad0b0b-d3dd-42e6-fa1a-e5218c4f3e0d"
      },
      "execution_count": null,
      "outputs": [
        {
          "output_type": "execute_result",
          "data": {
            "text/plain": [
              "'  MICAELA DE LOS SANYOS '"
            ],
            "application/vnd.google.colaboratory.intrinsic+json": {
              "type": "string"
            }
          },
          "metadata": {},
          "execution_count": 4
        }
      ]
    },
    {
      "cell_type": "markdown",
      "source": [
        "### [`str.lower()`](https://docs.python.org/3/library/stdtypes.html#str.lower)\n",
        "Convierte una string a minúsculas."
      ],
      "metadata": {
        "id": "hbDSBtMV1TpG"
      }
    },
    {
      "cell_type": "code",
      "source": [
        "texto.lower()"
      ],
      "metadata": {
        "id": "px3yEeNH_YK4",
        "colab": {
          "base_uri": "https://localhost:8080/",
          "height": 35
        },
        "outputId": "d9538185-e1d2-4bef-efe6-301d59ecd19f"
      },
      "execution_count": null,
      "outputs": [
        {
          "output_type": "execute_result",
          "data": {
            "text/plain": [
              "'  micaela de los sanyos '"
            ],
            "application/vnd.google.colaboratory.intrinsic+json": {
              "type": "string"
            }
          },
          "metadata": {},
          "execution_count": 5
        }
      ]
    },
    {
      "cell_type": "markdown",
      "source": [
        "### [`str.strip()`](https://docs.python.org/3/library/stdtypes.html#str.strip)\n",
        "Elimina los espacios en blanco al inicio y al final de una string."
      ],
      "metadata": {
        "id": "kz47eWM11gii"
      }
    },
    {
      "cell_type": "code",
      "source": [
        "texto.strip()"
      ],
      "metadata": {
        "id": "76dLgNa4_XAe",
        "colab": {
          "base_uri": "https://localhost:8080/",
          "height": 35
        },
        "outputId": "bdcbf2bb-445f-4d21-af83-c0dfa3bdd5bf"
      },
      "execution_count": null,
      "outputs": [
        {
          "output_type": "execute_result",
          "data": {
            "text/plain": [
              "'Micaela de los Sanyos'"
            ],
            "application/vnd.google.colaboratory.intrinsic+json": {
              "type": "string"
            }
          },
          "metadata": {},
          "execution_count": 7
        }
      ]
    },
    {
      "cell_type": "markdown",
      "source": [
        "### [`str.replace(antiguo, nuevo)`](https://docs.python.org/3/library/stdtypes.html#str.replace)\n",
        "\n",
        "Sustituye todas las ocurrencias del texto \"antiguo\" en la string por el  \"nuevo\"."
      ],
      "metadata": {
        "id": "m6notiyS1SCV"
      }
    },
    {
      "cell_type": "code",
      "source": [
        "texto.replace('y','t')"
      ],
      "metadata": {
        "id": "PNXAixtE_V6R",
        "colab": {
          "base_uri": "https://localhost:8080/",
          "height": 35
        },
        "outputId": "9ffb83f9-da3c-4400-8b68-5b223b8851a5"
      },
      "execution_count": null,
      "outputs": [
        {
          "output_type": "execute_result",
          "data": {
            "text/plain": [
              "'  Micaela de los Santos '"
            ],
            "application/vnd.google.colaboratory.intrinsic+json": {
              "type": "string"
            }
          },
          "metadata": {},
          "execution_count": 8
        }
      ]
    },
    {
      "cell_type": "markdown",
      "source": [
        "### Observaciones\n",
        "\n",
        "1. Los métodos devuelven una **tranformación**, no son ejecutados directamente sobre la variable donde está almacenado el texto.\n",
        "\n",
        "2. Adicionalmente, podemos acumular la ejecución de los métodos."
      ],
      "metadata": {
        "id": "zukvEjhG2Rcn"
      }
    },
    {
      "cell_type": "code",
      "source": [
        "texto.replace('y','t').upper().strip()"
      ],
      "metadata": {
        "id": "JjkBRklr_T5n",
        "colab": {
          "base_uri": "https://localhost:8080/",
          "height": 35
        },
        "outputId": "478d01b0-a0d0-420f-f0c4-59766fdc66a2"
      },
      "execution_count": null,
      "outputs": [
        {
          "output_type": "execute_result",
          "data": {
            "text/plain": [
              "'MICAELA DE LOS SANTOS'"
            ],
            "application/vnd.google.colaboratory.intrinsic+json": {
              "type": "string"
            }
          },
          "metadata": {},
          "execution_count": 10
        }
      ]
    },
    {
      "cell_type": "markdown",
      "source": [
        "Para que la transformación se pueda ejecutar debemos atribuir la salida de las transformaciones a las variables"
      ],
      "metadata": {
        "id": "1KbwfVut2h6I"
      }
    },
    {
      "cell_type": "code",
      "source": [
        "texo_nuevo = texto.replace('y','t').upper().strip()"
      ],
      "metadata": {
        "id": "ocPP-Jaj_SJI"
      },
      "execution_count": null,
      "outputs": []
    },
    {
      "cell_type": "code",
      "source": [
        "print(texo_nuevo)"
      ],
      "metadata": {
        "id": "m1RvLGZZ_SP3",
        "colab": {
          "base_uri": "https://localhost:8080/"
        },
        "outputId": "d167bf6d-13b2-42d6-f100-84b1dd6caf8c"
      },
      "execution_count": null,
      "outputs": [
        {
          "output_type": "stream",
          "name": "stdout",
          "text": [
            "MICAELA DE LOS SANTOS\n"
          ]
        }
      ]
    },
    {
      "cell_type": "markdown",
      "source": [
        "## Capturando datos\n",
        "\n",
        "En algunas aplicaciones necesitamos capturar los valores del usuario de nuestro proyecto. En python, logramos capturar los datos del usuario a través del comando [`input()`](https://docs.python.org/3/library/functions.html#input).\n",
        "\n",
        "Para ejecutar la captura debemos atribuir el resultado de esta función a una variable."
      ],
      "metadata": {
        "id": "0h9Fh5G9kHCa"
      }
    },
    {
      "cell_type": "code",
      "source": [
        "nombre = input(\"Ingresa tu nombre: \")"
      ],
      "metadata": {
        "id": "zbH_9i3q_PdY",
        "colab": {
          "base_uri": "https://localhost:8080/"
        },
        "outputId": "c3d806d1-34cf-48e1-95ee-5f6c49025c4e"
      },
      "execution_count": null,
      "outputs": [
        {
          "name": "stdout",
          "output_type": "stream",
          "text": [
            "Ingresa tu nombre: Jesus\n"
          ]
        }
      ]
    },
    {
      "cell_type": "code",
      "source": [
        "print(nombre)"
      ],
      "metadata": {
        "id": "JZy1Q9Tl_PgL",
        "colab": {
          "base_uri": "https://localhost:8080/"
        },
        "outputId": "4c37a160-273a-43cb-93e2-baafc7ac45aa"
      },
      "execution_count": null,
      "outputs": [
        {
          "output_type": "stream",
          "name": "stdout",
          "text": [
            "Jesus\n"
          ]
        }
      ]
    },
    {
      "cell_type": "markdown",
      "source": [
        "La salida de este comando siempre será una *string*. Esto quiere decir que aunque capturemos un valor de variable numérica, este será de tipo string.\n",
        "\n",
        "Entonces, será necesario **convertir el resultado cuando no se desea utilizar el valor como tipo string**."
      ],
      "metadata": {
        "id": "7z7hcLCk_aCY"
      }
    },
    {
      "cell_type": "markdown",
      "source": [
        "Existen funciones para la conversión de valores:\n",
        "\n",
        "- Enteros: [`int(dato_para_conversion)`](https://docs.python.org/3/library/functions.html#int)\n",
        "- Coma flotante: [`float(dato_para_conversion)`](https://docs.python.org/3/library/functions.html#float)\n",
        "- String: [`str(dato_para_conversion)`](https://docs.python.org/3/library/functions.html#func-str)\n",
        "- Booleano: [`bool(dato_para_conversion)`](https://docs.python.org/3/library/functions.html#bool)"
      ],
      "metadata": {
        "id": "TOlegATj1Jfp"
      }
    },
    {
      "cell_type": "code",
      "source": [
        "dato = int(input(\"Ingresa entero: \"))\n",
        "type(dato)"
      ],
      "metadata": {
        "id": "M2ueeH6l_NMe",
        "colab": {
          "base_uri": "https://localhost:8080/"
        },
        "outputId": "6df0261f-bcb3-4825-8dfa-e021791b650e"
      },
      "execution_count": null,
      "outputs": [
        {
          "name": "stdout",
          "output_type": "stream",
          "text": [
            "Ingresa entero: 65\n"
          ]
        },
        {
          "output_type": "execute_result",
          "data": {
            "text/plain": [
              "int"
            ]
          },
          "metadata": {},
          "execution_count": 15
        }
      ]
    },
    {
      "cell_type": "code",
      "source": [
        "dato = float(input(\"Ingresa numero con flotante: \"))\n",
        "type(dato)"
      ],
      "metadata": {
        "id": "xfWwuViK_NUn",
        "colab": {
          "base_uri": "https://localhost:8080/"
        },
        "outputId": "aace8340-e1b1-4ec5-d40c-8a780c3eee29"
      },
      "execution_count": null,
      "outputs": [
        {
          "name": "stdout",
          "output_type": "stream",
          "text": [
            "Ingresa numero con flotante: 5.5\n"
          ]
        },
        {
          "output_type": "execute_result",
          "data": {
            "text/plain": [
              "float"
            ]
          },
          "metadata": {},
          "execution_count": 17
        }
      ]
    },
    {
      "cell_type": "code",
      "source": [
        "dato = bool(input(\"Ingrese o no, algun dato: \"))\n",
        "if dato:\n",
        "  print(\"Ingreso dato\")\n",
        "else:\n",
        "  print(\"No ingreso dato\")\n",
        "\n",
        "type(dato)"
      ],
      "metadata": {
        "id": "uFCHDyew_NZm",
        "colab": {
          "base_uri": "https://localhost:8080/"
        },
        "outputId": "ef315233-f53f-445d-de14-26cb28ccb71b"
      },
      "execution_count": null,
      "outputs": [
        {
          "output_type": "stream",
          "name": "stdout",
          "text": [
            "Ingrese o no, algun dato: \n",
            "No ingreso dato\n"
          ]
        },
        {
          "output_type": "execute_result",
          "data": {
            "text/plain": [
              "bool"
            ]
          },
          "metadata": {},
          "execution_count": 23
        }
      ]
    },
    {
      "cell_type": "markdown",
      "source": [
        "Trataremos de representar mejor ahora el resultado de la transformación que obtuvimos. Nosotros podemos formatear y presentar nuestro resultado mezclando strings con valores no textuales.\n",
        "\n",
        "Para ello utilizamos la estructura de formatación `f` con strings."
      ],
      "metadata": {
        "id": "yNI2-XTbB3aS"
      }
    },
    {
      "cell_type": "code",
      "source": [
        "nombre =  input(\"Ingresa nombre: \")\n",
        "edad = int(input(\"Ingresa edad: \"))\n",
        "altura = float(input(\"Ingresa tu altura en metros: \"))\n",
        "\n",
        "print(f\"Hola {nombre}, tu edad es {edad} y tu altura es de {altura}\")"
      ],
      "metadata": {
        "id": "keJjA5N9_K5i",
        "colab": {
          "base_uri": "https://localhost:8080/"
        },
        "outputId": "1afeef81-c9b8-4c1b-b52b-488f073e8412"
      },
      "execution_count": null,
      "outputs": [
        {
          "output_type": "stream",
          "name": "stdout",
          "text": [
            "Ingresa nombre: Jesus\n",
            "Ingresa edad: 27\n",
            "Ingresa tu altura en metros: 1.70\n",
            "Hola Jesus, tu edad es 27 y tu altura es de 1.7\n"
          ]
        }
      ]
    },
    {
      "cell_type": "markdown",
      "source": [
        "# **Desafio Unidad 2**"
      ],
      "metadata": {
        "id": "vhat3kPg2QB-"
      }
    },
    {
      "cell_type": "markdown",
      "source": [
        "1 - Crea un programa que solicite al usuario que escriba su nombre y luego imprima \"Hola, [nombre].\""
      ],
      "metadata": {
        "id": "_kSUF5-Z20Pt"
      }
    },
    {
      "cell_type": "code",
      "source": [
        "nombre = input(\"Ingrese su nombre: \")\n",
        "print(f\"¡Hola, {nombre}!\")"
      ],
      "metadata": {
        "colab": {
          "base_uri": "https://localhost:8080/"
        },
        "id": "NsipGXmq29mW",
        "outputId": "eb0f9aeb-466e-45a2-d61a-fa0cba24d6e1"
      },
      "execution_count": null,
      "outputs": [
        {
          "output_type": "stream",
          "name": "stdout",
          "text": [
            "Ingrese su nombre: Jesus\n",
            "¡Hola, Jesus!\n"
          ]
        }
      ]
    },
    {
      "cell_type": "markdown",
      "source": [
        "2 - Crea un programa que solicite al usuario que escriba su nombre y edad, y luego imprima \"Hola, [nombre], tienes [edad] años.\""
      ],
      "metadata": {
        "id": "p0fWmM7G20Me"
      }
    },
    {
      "cell_type": "code",
      "source": [
        "nombre = input(\"Ingrese su nombre: \")\n",
        "edad = input(\"Ingrese su edad\")\n",
        "print(f\"¡Hola, {nombre}, tienes {edad} años.\")"
      ],
      "metadata": {
        "colab": {
          "base_uri": "https://localhost:8080/"
        },
        "id": "C4FKkPp93ROg",
        "outputId": "0aa92d92-5267-440f-c751-5eedbfe45155"
      },
      "execution_count": null,
      "outputs": [
        {
          "output_type": "stream",
          "name": "stdout",
          "text": [
            "Ingrese su nombre: Jesus\n",
            "Ingrese su edad27\n",
            "¡Hola, Jesus, tienes 27 años.\n"
          ]
        }
      ]
    },
    {
      "cell_type": "markdown",
      "source": [
        "3 - Crea un programa que solicite al usuario que escriba su nombre, edad y altura en metros, y luego imprima \"Hola, [nombre], tienes [edad] años y mides [altura] metros.\""
      ],
      "metadata": {
        "id": "xVpnvXvq20Jq"
      }
    },
    {
      "cell_type": "code",
      "source": [
        "nombre =  input(\"Ingresa nombre: \")\n",
        "edad = int(input(\"Ingresa edad: \"))\n",
        "altura = float(input(\"Ingresa tu altura en metros: \"))\n",
        "\n",
        "print(f\"Hola {nombre}, tienes {edad} años y mides {altura} metros\")"
      ],
      "metadata": {
        "id": "AcX8dDWT31d1"
      },
      "execution_count": null,
      "outputs": []
    },
    {
      "cell_type": "markdown",
      "source": [
        "4 - Crea un programa que solicite dos valores numéricos al usuario y luego imprima la suma de ambos valores."
      ],
      "metadata": {
        "id": "FEki49Z620GF"
      }
    },
    {
      "cell_type": "code",
      "source": [
        "numero1 = int(input('Ingrese numero 1: '))\n",
        "numero2 = int(input('Ingrese numero 2: '))\n",
        "print(numero1 + numero2)"
      ],
      "metadata": {
        "colab": {
          "base_uri": "https://localhost:8080/"
        },
        "id": "_celOxa85okR",
        "outputId": "443f733c-194e-4043-8fbd-95e01e758aaf"
      },
      "execution_count": null,
      "outputs": [
        {
          "output_type": "stream",
          "name": "stdout",
          "text": [
            "Ingrese numero 1: 5\n",
            "Ingrese numero 2: 10\n",
            "15\n"
          ]
        }
      ]
    },
    {
      "cell_type": "markdown",
      "source": [
        "5 - Crea un programa que solicite tres valores numéricos al usuario y luego imprima la suma de los tres valores."
      ],
      "metadata": {
        "id": "USPHQIf620AC"
      }
    },
    {
      "cell_type": "code",
      "source": [
        "numero1 = int(input('Ingrese numero 1: '))\n",
        "numero2 = int(input('Ingrese numero 2: '))\n",
        "numero3 = int(input('Ingrese numero 3: '))\n",
        "print(numero1 + numero2 + numero3)"
      ],
      "metadata": {
        "colab": {
          "base_uri": "https://localhost:8080/"
        },
        "id": "0xtwTmUE54dt",
        "outputId": "a8154e21-9137-4aab-8d05-eb30904f650f"
      },
      "execution_count": null,
      "outputs": [
        {
          "output_type": "stream",
          "name": "stdout",
          "text": [
            "Ingrese numero 1: 10\n",
            "Ingrese numero 2: 5\n",
            "Ingrese numero 3: 3\n",
            "18\n"
          ]
        }
      ]
    },
    {
      "cell_type": "markdown",
      "source": [
        "6 - Crea un programa que solicite dos valores numéricos al usuario y luego imprima la resta del primero menos el segundo valor."
      ],
      "metadata": {
        "id": "TgrJUY3i2z2q"
      }
    },
    {
      "cell_type": "code",
      "source": [
        "numero1 = int(input('Ingrese numero 1: '))\n",
        "numero2 = int(input('Ingrese numero 2: '))\n",
        "print(numero1 - numero2)"
      ],
      "metadata": {
        "colab": {
          "base_uri": "https://localhost:8080/"
        },
        "id": "-uf-rQjn6Fhb",
        "outputId": "25d62c26-fbfb-477a-b846-c80b23a21b93"
      },
      "execution_count": null,
      "outputs": [
        {
          "output_type": "stream",
          "name": "stdout",
          "text": [
            "Ingrese numero 1: 10\n",
            "Ingrese numero 2: 5\n",
            "5\n"
          ]
        }
      ]
    },
    {
      "cell_type": "markdown",
      "source": [
        "7 - Crea un programa que solicite dos valores numéricos al usuario y luego imprima la multiplicación de los dos valores."
      ],
      "metadata": {
        "id": "4o_WWNdv2zqJ"
      }
    },
    {
      "cell_type": "code",
      "source": [
        "numero1 = int(input('Ingrese numero 1: '))\n",
        "numero2 = int(input('Ingrese numero 2: '))\n",
        "print(numero1 * numero2)"
      ],
      "metadata": {
        "colab": {
          "base_uri": "https://localhost:8080/"
        },
        "id": "IPYJYl2d6MHh",
        "outputId": "217b7871-9138-4f71-8654-976ae31a04d4"
      },
      "execution_count": null,
      "outputs": [
        {
          "output_type": "stream",
          "name": "stdout",
          "text": [
            "Ingrese numero 1: 5\n",
            "Ingrese numero 2: 2\n",
            "10\n"
          ]
        }
      ]
    },
    {
      "cell_type": "markdown",
      "source": [
        "8 - Crea un programa que solicite dos valores numéricos, un numerador y un denominador, y realice la división entre los dos valores. Asegúrate de que el valor del denominador no sea igual a 0."
      ],
      "metadata": {
        "id": "EnUN6-gi2zgQ"
      }
    },
    {
      "cell_type": "code",
      "source": [
        "numerador = int(input('Ingrese el numerador: '))\n",
        "denominador = int(input('Ingrese el denominador: '))\n",
        "print(numerador / denominador)"
      ],
      "metadata": {
        "colab": {
          "base_uri": "https://localhost:8080/"
        },
        "id": "a6qcPTrI6Tqu",
        "outputId": "9590bc9f-8211-4fba-9f74-daa48275dae5"
      },
      "execution_count": null,
      "outputs": [
        {
          "output_type": "stream",
          "name": "stdout",
          "text": [
            "Ingrese el numerador: 10\n",
            "Ingrese el denominador: 2\n",
            "5.0\n"
          ]
        }
      ]
    },
    {
      "cell_type": "markdown",
      "source": [
        "9 - Crea un programa que solicite dos valores numéricos, un operador y una potencia, y realice la exponenciación entre estos dos valores."
      ],
      "metadata": {
        "id": "s7hg4btx2zTv"
      }
    },
    {
      "cell_type": "code",
      "source": [
        "operador = int(input('Ingrese el valor del operador: '))\n",
        "potencia = int(input('Ingrese el valor de la potencia: '))\n",
        "print(operador ** potencia)"
      ],
      "metadata": {
        "colab": {
          "base_uri": "https://localhost:8080/"
        },
        "id": "wd5veXTK6eHC",
        "outputId": "49003d6e-2c94-48d3-a666-8b6d6f31a838"
      },
      "execution_count": null,
      "outputs": [
        {
          "output_type": "stream",
          "name": "stdout",
          "text": [
            "Ingrese el valor del operador: 2\n",
            "Ingrese el valor de la potencia: 3\n",
            "8\n"
          ]
        }
      ]
    },
    {
      "cell_type": "markdown",
      "source": [
        "10 - Crea un programa que solicite dos valores numéricos, un numerador y un denominador, y realice la división entera entre los dos valores. Asegúrate de que el valor del denominador no sea igual a 0."
      ],
      "metadata": {
        "id": "c6R1YQQk4uBu"
      }
    },
    {
      "cell_type": "code",
      "source": [
        "numerador = int(input('Ingrese el numerador: '))\n",
        "denominador = int(input('Ingrese el denominador: '))\n",
        "print(numerador // denominador)"
      ],
      "metadata": {
        "colab": {
          "base_uri": "https://localhost:8080/"
        },
        "id": "cqRjesWh6jxz",
        "outputId": "3186c6f9-f0fe-48c5-9d5c-e00ae3a16da9"
      },
      "execution_count": null,
      "outputs": [
        {
          "output_type": "stream",
          "name": "stdout",
          "text": [
            "Ingrese el numerador: 10\n",
            "Ingrese el denominador: 3\n",
            "3\n"
          ]
        }
      ]
    },
    {
      "cell_type": "markdown",
      "source": [
        "11 - Crea un programa que solicite dos valores numéricos, un numerador y un denominador, y devuelva el resto de la división entre los dos valores. Asegúrate de que el valor del denominador no sea igual a 0."
      ],
      "metadata": {
        "id": "0ig1zADX4t-a"
      }
    },
    {
      "cell_type": "code",
      "source": [
        "numerador = int(input('Ingrese el numerador: '))\n",
        "denominador = int(input('Ingrese el denominador: '))\n",
        "print(numerador % denominador)"
      ],
      "metadata": {
        "colab": {
          "base_uri": "https://localhost:8080/"
        },
        "id": "M01fWJcI61MA",
        "outputId": "91af3210-732a-40cd-c900-da42d73987a9"
      },
      "execution_count": null,
      "outputs": [
        {
          "output_type": "stream",
          "name": "stdout",
          "text": [
            "Ingrese el numerador: 10\n",
            "Ingrese el denominador: 3\n",
            "1\n"
          ]
        }
      ]
    },
    {
      "cell_type": "markdown",
      "source": [
        "12 - Crea un código que solicite las 3 notas de un estudiante e imprima el promedio de las notas."
      ],
      "metadata": {
        "id": "UP-Ff8wL4t6q"
      }
    },
    {
      "cell_type": "code",
      "source": [
        "nota_1 = float(input('Ingrese la 1° nota: '))\n",
        "nota_2 = float(input('Ingrese la 2° nota: '))\n",
        "nota_3 = float(input('Ingrese la 3° nota: '))\n",
        "\n",
        "print(f'El promedio es: {(nota_1+nota_2+nota_3)/3:.2f}')"
      ],
      "metadata": {
        "colab": {
          "base_uri": "https://localhost:8080/"
        },
        "id": "WujivvOQ67lJ",
        "outputId": "a18477cc-b1aa-4d7c-8582-563b4d4efe5b"
      },
      "execution_count": null,
      "outputs": [
        {
          "output_type": "stream",
          "name": "stdout",
          "text": [
            "Ingrese la 1° nota: 10\n",
            "Ingrese la 2° nota: 8\n",
            "Ingrese la 3° nota: 7\n",
            "El promedio es: 8.33\n"
          ]
        }
      ]
    },
    {
      "cell_type": "markdown",
      "source": [
        "13 - Crea un código que calcule e imprima el promedio ponderado de los números 5, 12, 20 y 15 con pesos respectivamente iguales a 1, 2, 3 y 4."
      ],
      "metadata": {
        "id": "x8nFQ3XM4t34"
      }
    },
    {
      "cell_type": "code",
      "source": [
        "numeros = [5, 12, 20, 15]\n",
        "pesos = [1, 2, 3, 4]\n",
        "\n",
        "suma_productos = 0\n",
        "for i in range(len(numeros)):\n",
        "    suma_productos += numeros[i] * pesos[i]\n",
        "\n",
        "suma_pesos = sum(pesos)\n",
        "\n",
        "promedio_ponderado = suma_productos / suma_pesos\n",
        "\n",
        "print(f\"El promedio ponderado es: {promedio_ponderado}\")"
      ],
      "metadata": {
        "colab": {
          "base_uri": "https://localhost:8080/"
        },
        "id": "Y6N0ZZp97Vwa",
        "outputId": "6e2721cf-a833-4ee8-8597-bf41681a6b3a"
      },
      "execution_count": null,
      "outputs": [
        {
          "output_type": "stream",
          "name": "stdout",
          "text": [
            "El promedio ponderado es: 14.9\n"
          ]
        }
      ]
    },
    {
      "cell_type": "markdown",
      "source": [
        "14 - Crea una variable llamada \"frase\" y asígnale una cadena de texto de tu elección. Luego, imprime la frase en pantalla."
      ],
      "metadata": {
        "id": "DCg5PXwF4t0s"
      }
    },
    {
      "cell_type": "code",
      "source": [
        "frase = '¡Hola Alura!'\n",
        "print(frase)"
      ],
      "metadata": {
        "colab": {
          "base_uri": "https://localhost:8080/"
        },
        "id": "mHQYYz6P7m5T",
        "outputId": "ff6c6656-a4c3-4c53-808c-738b1c2125b3"
      },
      "execution_count": null,
      "outputs": [
        {
          "output_type": "stream",
          "name": "stdout",
          "text": [
            "¡Hola Alura!\n"
          ]
        }
      ]
    },
    {
      "cell_type": "markdown",
      "source": [
        "15 - Crea un código que solicite una frase y luego imprima la frase en pantalla."
      ],
      "metadata": {
        "id": "qpPvp2WZ4txZ"
      }
    },
    {
      "cell_type": "code",
      "source": [
        "frase = input('Escribe una frase: ')\n",
        "print(frase)"
      ],
      "metadata": {
        "colab": {
          "base_uri": "https://localhost:8080/"
        },
        "id": "2JdZVbQP7xr-",
        "outputId": "2ca286ac-1ee2-42e4-bf7d-d6f568d716d9"
      },
      "execution_count": null,
      "outputs": [
        {
          "output_type": "stream",
          "name": "stdout",
          "text": [
            "Escribe una frase: Hola XD\n",
            "Hola XD\n"
          ]
        }
      ]
    },
    {
      "cell_type": "markdown",
      "source": [
        "16 - Crea un código que solicite una frase al usuario y luego imprima la misma frase ingresada pero en mayúsculas."
      ],
      "metadata": {
        "id": "2ELZ_zIC4tuw"
      }
    },
    {
      "cell_type": "code",
      "source": [
        "frase = input('Escribe una frase: ')\n",
        "print(frase.upper())"
      ],
      "metadata": {
        "colab": {
          "base_uri": "https://localhost:8080/"
        },
        "id": "4hOYHlCt74C5",
        "outputId": "04908c2d-2564-453e-d1a3-a3d938f76649"
      },
      "execution_count": null,
      "outputs": [
        {
          "output_type": "stream",
          "name": "stdout",
          "text": [
            "Escribe una frase: Hola xd\n",
            "HOLA XD\n"
          ]
        }
      ]
    },
    {
      "cell_type": "markdown",
      "source": [
        "17 - Crea un código que solicite una frase al usuario y luego imprima la misma frase ingresada pero en minúsculas.\n"
      ],
      "metadata": {
        "id": "NnFisTED4tqX"
      }
    },
    {
      "cell_type": "code",
      "source": [
        "frase = input('Escribe una frase: ')\n",
        "print(frase.lower())"
      ],
      "metadata": {
        "colab": {
          "base_uri": "https://localhost:8080/"
        },
        "id": "0pAMRHWt78co",
        "outputId": "930b65fe-1f0e-4537-b36c-2c7c76297c5b"
      },
      "execution_count": null,
      "outputs": [
        {
          "output_type": "stream",
          "name": "stdout",
          "text": [
            "Escribe una frase: HOLA XD\n",
            "hola xd\n"
          ]
        }
      ]
    },
    {
      "cell_type": "markdown",
      "source": [
        "18 - Crea una variable llamada \"frase\" y asígnale una cadena de texto de tu elección. Luego, imprime la frase sin espacios en blanco al principio y al final."
      ],
      "metadata": {
        "id": "3LREwUNS4tjt"
      }
    },
    {
      "cell_type": "code",
      "source": [
        "frase = '    ¡Hola Alura!    '\n",
        "print(frase.strip())"
      ],
      "metadata": {
        "colab": {
          "base_uri": "https://localhost:8080/"
        },
        "id": "K_srDXYQ8HCB",
        "outputId": "c1190ab1-32b5-4ec3-bfed-1cfbf2056684"
      },
      "execution_count": null,
      "outputs": [
        {
          "output_type": "stream",
          "name": "stdout",
          "text": [
            "¡Hola Alura!\n"
          ]
        }
      ]
    },
    {
      "cell_type": "markdown",
      "source": [
        "19 - Crea un código que solicite una frase al usuario y luego imprima la misma frase sin espacios en blanco al principio y al final."
      ],
      "metadata": {
        "id": "G8xwWDHc4tbs"
      }
    },
    {
      "cell_type": "code",
      "source": [
        "frase = input('Escribe una frase: ')\n",
        "print(frase.strip())"
      ],
      "metadata": {
        "colab": {
          "base_uri": "https://localhost:8080/"
        },
        "id": "s2coEeCM8N0p",
        "outputId": "c2912dc9-50d5-46fd-d79a-5a856ac725e1"
      },
      "execution_count": null,
      "outputs": [
        {
          "output_type": "stream",
          "name": "stdout",
          "text": [
            "Escribe una frase:     hola con espacios      \n",
            "hola con espacios\n"
          ]
        }
      ]
    },
    {
      "cell_type": "markdown",
      "source": [
        "20 - Crea un código que solicite una frase al usuario y luego imprima la misma frase sin espacios en blanco al principio y al final, además de convertirla a minúsculas."
      ],
      "metadata": {
        "id": "pdi90MyS4tQa"
      }
    },
    {
      "cell_type": "code",
      "source": [
        "frase = input('Escribe una frase: ')\n",
        "print(frase.strip().lower())"
      ],
      "metadata": {
        "colab": {
          "base_uri": "https://localhost:8080/"
        },
        "id": "zUh54wt08UQS",
        "outputId": "fc186ee3-bf46-4c30-bd73-0d5479b11700"
      },
      "execution_count": null,
      "outputs": [
        {
          "output_type": "stream",
          "name": "stdout",
          "text": [
            "Escribe una frase:             Hola con ESPACIOS    \n",
            "hola con espacios\n"
          ]
        }
      ]
    },
    {
      "cell_type": "markdown",
      "source": [
        "21 - Crea un código que solicite una frase al usuario y luego imprima la misma frase con todas las vocales \"e\" reemplazadas por la letra \"f\"."
      ],
      "metadata": {
        "id": "x6EW7twD4s1A"
      }
    },
    {
      "cell_type": "code",
      "source": [
        "frase = input('Escribe una frase: ')\n",
        "print(frase.lower().replace('e','f'))"
      ],
      "metadata": {
        "colab": {
          "base_uri": "https://localhost:8080/"
        },
        "id": "Vh24bGZt8gQz",
        "outputId": "1c8cda6e-1753-4d6f-eeda-fa08fc242e35"
      },
      "execution_count": null,
      "outputs": [
        {
          "output_type": "stream",
          "name": "stdout",
          "text": [
            "Escribe una frase: AL einal SI euNCIono\n",
            "al final si funciono\n"
          ]
        }
      ]
    },
    {
      "cell_type": "markdown",
      "source": [
        "22 - Crea un código que solicite una frase al usuario y luego imprima la misma frase con todas las vocales \"a\" reemplazadas por el carácter \"@\"."
      ],
      "metadata": {
        "id": "etiXCp145VRs"
      }
    },
    {
      "cell_type": "code",
      "source": [
        "frase = input('Escribe una frase: ')\n",
        "print(frase.lower().replace('a',chr(64)))"
      ],
      "metadata": {
        "colab": {
          "base_uri": "https://localhost:8080/"
        },
        "id": "akiZO9Gf86i2",
        "outputId": "e0c874f7-c381-41db-9d33-bbee19e52480"
      },
      "execution_count": null,
      "outputs": [
        {
          "output_type": "stream",
          "name": "stdout",
          "text": [
            "Escribe una frase: Todas se durmieron\n",
            "tod@s se durmieron\n"
          ]
        }
      ]
    },
    {
      "cell_type": "markdown",
      "source": [
        "23 - Crea un código que solicite una frase al usuario y luego imprima la misma frase con todas las consonantes \"s\" reemplazadas por el carácter \"$\"."
      ],
      "metadata": {
        "id": "xaNnJE9S5U1V"
      }
    },
    {
      "cell_type": "code",
      "source": [
        "frase = input('Escribe una frase: ')\n",
        "print(frase.lower().replace('s',chr(36)))"
      ],
      "metadata": {
        "colab": {
          "base_uri": "https://localhost:8080/"
        },
        "id": "oZmX0cLT9GBa",
        "outputId": "d6fb1edb-c8b3-4ea9-dcbe-ad2895e57511"
      },
      "execution_count": null,
      "outputs": [
        {
          "output_type": "stream",
          "name": "stdout",
          "text": [
            "Escribe una frase: VALE s5\n",
            "vale $5\n"
          ]
        }
      ]
    },
    {
      "cell_type": "markdown",
      "source": [
        "# Estructuras condicionales"
      ],
      "metadata": {
        "id": "NwRaiHHHhhyl"
      }
    },
    {
      "cell_type": "code",
      "source": [
        "# Nota de aprobacion entre 7 y 10 == nota de aprobacion >= 7\n",
        "# Nota de aprobacion es menor a 7 == nota de aprobacion < 7\n",
        "\n",
        "\"\"\"\n",
        "Si la nota es mayor o igual a 7 entonces el estuciante aprueba\n",
        "Si no, entonces el estudiante reprueba\n",
        "\"\"\""
      ],
      "metadata": {
        "id": "pa4gLncu-mvU",
        "colab": {
          "base_uri": "https://localhost:8080/",
          "height": 35
        },
        "outputId": "ae2039e9-09d5-419a-a48f-2a3a65ebc0a2"
      },
      "execution_count": null,
      "outputs": [
        {
          "output_type": "execute_result",
          "data": {
            "text/plain": [
              "'\\nSi la nota es mayor o igual a 7 entonces el estuciante aprueba\\nSi no, entonces el estudiante reprueba\\n'"
            ],
            "application/vnd.google.colaboratory.intrinsic+json": {
              "type": "string"
            }
          },
          "metadata": {},
          "execution_count": 1
        }
      ]
    },
    {
      "cell_type": "markdown",
      "source": [
        "## `IF` y `ELSE`\n",
        "\n",
        "Los comandos `if` y `else` son dos estructuras condicionales. El comando `if` ejecutará el bloque de comandos en caso de que la condición citada sea  **verdadera**. El comando `else` ejecutará el bloque de comandos en el caso de que la condicional de `if` sea **falsa**."
      ],
      "metadata": {
        "id": "qXZqg9aYEhAh"
      }
    },
    {
      "cell_type": "markdown",
      "source": [
        "El comando `if` es una palabra clave en Python que significa \"si\". Este se emplea para conformar la estructura condicional, que te permite verificar si una determinada condición es verdadera o falsa e, inmediatamente después, ejecute un bloque de código específico dependiendo del resultado de la verificación. La sintaxis para usar el comando `if` es:\n",
        "\n",
        "\n",
        "\n",
        "```\n",
        "if condicion:\n",
        "    # Realiza algo\n",
        "```\n",
        "\n"
      ],
      "metadata": {
        "id": "EIhlqHXd2Gil"
      }
    },
    {
      "cell_type": "code",
      "source": [
        "if 2<7:\n",
        "  print('La condicion es verdadera.')\n",
        "print('Fin de consulta')"
      ],
      "metadata": {
        "id": "S2S6XAFz-czM",
        "colab": {
          "base_uri": "https://localhost:8080/"
        },
        "outputId": "6546c50c-9a7f-47ad-e98f-7e613b57b229"
      },
      "execution_count": null,
      "outputs": [
        {
          "output_type": "stream",
          "name": "stdout",
          "text": [
            "La condicion es verdadera.\n",
            "Fin de consulta\n"
          ]
        }
      ]
    },
    {
      "cell_type": "code",
      "source": [
        "if 2>7:\n",
        "  print('La condicion es verdadera.')\n",
        "print('Fin de consulta')"
      ],
      "metadata": {
        "id": "YHkwMMyY-c1r",
        "colab": {
          "base_uri": "https://localhost:8080/"
        },
        "outputId": "fd2e1a22-ce62-4f44-f6ce-1217581bc2fe"
      },
      "execution_count": null,
      "outputs": [
        {
          "output_type": "stream",
          "name": "stdout",
          "text": [
            "Fin de consulta\n"
          ]
        }
      ]
    },
    {
      "cell_type": "markdown",
      "source": [
        "Ya el comando `else` en Python se usa en junción con la palabra clave `if` para formar una estructura condicional. la sintaxis para usar el `else` es:\n",
        "\n",
        "```\n",
        "if condicion:\n",
        "  # codigo en caso de que sea verdad\n",
        "else:\n",
        "  # codigo en caso de que sea falso\n",
        "```\n",
        "\n",
        "el comando `else` se ejecuta cuando la condición verificada por el `if` es evaluada como `False`."
      ],
      "metadata": {
        "id": "27RW2v_sIKct"
      }
    },
    {
      "cell_type": "code",
      "source": [
        "if 2>7:\n",
        "  print('La condicion es verdadera.')\n",
        "else:\n",
        "  print('la condicion es falsa')\n",
        "print('Fin de consulta')"
      ],
      "metadata": {
        "id": "ZTfNJd_f-aOq",
        "colab": {
          "base_uri": "https://localhost:8080/"
        },
        "outputId": "de3a8462-22c5-4f6c-904a-b33311dd80f4"
      },
      "execution_count": null,
      "outputs": [
        {
          "output_type": "stream",
          "name": "stdout",
          "text": [
            "la condicion es falsa\n",
            "Fin de consulta\n"
          ]
        }
      ]
    },
    {
      "cell_type": "markdown",
      "source": [
        "---\n",
        "**Situación:**\n",
        "\n",
        "Recibiremos el promedio de la nota de los estudiantes y necesitamos de un algoritmo que ejecute el análisis y determine si el estudiante fue **Aprobado** o **Reprobado**, mostrando un mensaje del resultado. Para ser aprobado, el promedio necesita ser igual o superior a 7.0."
      ],
      "metadata": {
        "id": "BqORg85XX-Nl"
      }
    },
    {
      "cell_type": "code",
      "source": [
        "nota = float(input('Ingresa la nota: '))\n",
        "if nota >= 7:\n",
        "  print('Aprobado')\n",
        "else:\n",
        "  print('Reprobado')"
      ],
      "metadata": {
        "id": "UukCN4AQ-YYW",
        "colab": {
          "base_uri": "https://localhost:8080/"
        },
        "outputId": "efb25bf4-c496-45b6-910b-64f8f60ced65"
      },
      "execution_count": null,
      "outputs": [
        {
          "output_type": "stream",
          "name": "stdout",
          "text": [
            "Ingresa la nota: 6\n",
            "Reprobado\n"
          ]
        }
      ]
    },
    {
      "cell_type": "markdown",
      "source": [
        "Ahora, nuestra institución educativa estableció que las personas que tengan el promedio entre 5.0 y 7.0 pueden participar del curso de **Recuperación** durante las vacaciones para lograr aprobar.\n",
        "\n",
        "Entonces podemos apoyarnos en un conjunto de `if`s para poder estructurar esta nueva condición."
      ],
      "metadata": {
        "id": "bD9O17HB6LUo"
      }
    },
    {
      "cell_type": "code",
      "source": [
        "nota = float(input('Ingresa la nota: '))\n",
        "if nota >= 7:\n",
        "  print('Aprobado')\n",
        "if 7 > nota >= 5:\n",
        "  print('Recuperacion')\n",
        "if nota < 5:\n",
        "  print('Reprobado')"
      ],
      "metadata": {
        "id": "G9cJ5O9--W52",
        "colab": {
          "base_uri": "https://localhost:8080/"
        },
        "outputId": "ce69e98a-d0c2-4857-8910-f79314d45cb2"
      },
      "execution_count": null,
      "outputs": [
        {
          "output_type": "stream",
          "name": "stdout",
          "text": [
            "Ingresa la nota: 7\n",
            "Aprobado\n"
          ]
        }
      ]
    },
    {
      "cell_type": "markdown",
      "source": [
        "Observa que en casos con 3 situaciones como este necesitamos definir bien nuestras condiciones. Pues, si realizamos una condición con `else` al final, este irá a considerar solamente la condición `if` inmediatamente anterior para generar la salida en caso de que el resultado de su operación lógica sea **falso** dando como resultado, dos o más ejecuciones.\n",
        "\n",
        "Por ejemplo:"
      ],
      "metadata": {
        "id": "D5e2mByjvycO"
      }
    },
    {
      "cell_type": "code",
      "source": [
        "nota = float(input('Ingresa la nota: '))\n",
        "if nota >= 7:\n",
        "  print('Aprobado')\n",
        "if 7 > nota >= 5:\n",
        "  print('Recuperacion')\n",
        "else:\n",
        "  print('Reprobado')"
      ],
      "metadata": {
        "id": "C21JmOuK-VU8",
        "colab": {
          "base_uri": "https://localhost:8080/"
        },
        "outputId": "d02daa8e-c781-49b5-c5c5-3d9e102dc27b"
      },
      "execution_count": null,
      "outputs": [
        {
          "output_type": "stream",
          "name": "stdout",
          "text": [
            "Ingresa la nota: 8\n",
            "Aprobado\n",
            "Reprobado\n"
          ]
        }
      ]
    },
    {
      "cell_type": "markdown",
      "source": [
        "## `ELIF`\n",
        "\n",
        "El comando `elif` es una palabra clave en Python que significa \"si no, si\" y lo podemos considerar una *contracción* entre `else` e `if`. Se utiliza en conjunto con la palabra clave `if` para formar una estructura condicional en cadena."
      ],
      "metadata": {
        "id": "04T5g-7h4zWx"
      }
    },
    {
      "cell_type": "markdown",
      "source": [
        "la sintaxis para utilizar el comando `elif` es:\n",
        "\n",
        "```\n",
        "if condicion1:\n",
        "    # Realiza algo\n",
        "elif condicion2:\n",
        "    # Realiza otra cosa\n",
        "elif condicion3:\n",
        "    # Realiza otra cosa\n",
        "else:\n",
        "    # Realiza algo diferente\n",
        "```\n",
        "\n",
        "El comando `elif` permite que puedas verificar varias condiciones en cadena, economizando espacio en tu código. Si la primera condición se evalúa como `False`, el interpretador de Python evaluará la próxima condición con el `elif`. Ello continuará hasta que una condición sea evaluada como `True` o hasta que el `else` sea alcazado. Si ninguna de las condiciones es evaluada como `True`, la ejecución del código del comando `else` será iniciada."
      ],
      "metadata": {
        "id": "rNBHr5mm1Lm6"
      }
    },
    {
      "cell_type": "markdown",
      "source": [
        "Vamos a emplear el mismo caso anterior:"
      ],
      "metadata": {
        "id": "MVoykFbB4bd4"
      }
    },
    {
      "cell_type": "code",
      "source": [
        "nota = float(input('Ingresa la nota: '))\n",
        "if nota >= 7:\n",
        "  print('Aprobado')\n",
        "elif 7 > nota >= 5:\n",
        "  print('Recuperacion')\n",
        "else:\n",
        "  print('Reprobado')"
      ],
      "metadata": {
        "id": "QFamB78s-TW_",
        "colab": {
          "base_uri": "https://localhost:8080/"
        },
        "outputId": "fc7a06cc-2c3e-4098-f01c-caa38a0c68f7"
      },
      "execution_count": null,
      "outputs": [
        {
          "output_type": "stream",
          "name": "stdout",
          "text": [
            "Ingresa la nota: 8\n",
            "Aprobado\n"
          ]
        }
      ]
    },
    {
      "cell_type": "markdown",
      "source": [
        "## Operadores\n",
        "\n",
        "Durante la construcción de comandos a veces necesitamos de una elaboración mayor de la expresión condicional, necesitando que algunos operadores lógicos se encuentren integrados."
      ],
      "metadata": {
        "id": "Tf1wSOem6iwZ"
      }
    },
    {
      "cell_type": "markdown",
      "source": [
        "### `AND`, `OR`, `NOT`\n",
        "\n",
        "Los operadores lógicos `and`, `or` y `not` son usados para combinar expresiones lógicas en Python. Ellos son usados frecuentemente en conjunto con el comando `if` para crear estructuras condicionales más complejas.\n"
      ],
      "metadata": {
        "id": "GFIZnRWXGPWO"
      }
    },
    {
      "cell_type": "markdown",
      "source": [
        "- `AND` es usado para verificar si dos condiciones son verdaderas. La expresión lógica¹ `x and y` se evalúa como `True` tan solo si **ambas condiciones `x` y `y` son verdaderas**, y como `False` en caso contrario.\n",
        "\n",
        "- `OR` es usado para verificar si al menos una de las condiciones es verdadera. La expresión lógica `x or y` se evalúa como `True` **si al menos una de las condiciones `x` o `y` es verdadera**, y como `False` si ambas condiciones son falsas.\n",
        "\n",
        "- `NOT` es usado para **negar una condición**. La expresión lógica `not x` es evaluada como `True` si la condición x es falsa, y como `False` si la condición x es verdadera.\n",
        "\n",
        "¹ Una expresión lógica es una declaración que puede ser evaluada como verdadera o falsa. Ella se compone por operandos lógicos² y por operadores lógicos³, que son usados ​​para combinar varias expresiones lógicas en una única expresión.\n",
        "\n",
        "² Los operandos lógicos son los elementos que son comparados o evaluados en una expresión lógica. Ellos son generalmente valores verdaderos o falsos, pero también pueden ser expresiones lógicas más complejas. En Python, los operandos lógicos son los valores `True` y `False`.\n",
        "\n",
        "³ Los operadores lógicos son ls símbolos o palabras clave que son usados ​​para combinar varias expresiones lógicas en una única expresión. En Python, los operadores lógicos son `and`, `or` y `not`, bien como las palabras clave `if`, `elif` e `else`."
      ],
      "metadata": {
        "id": "Z_dgAoHXJbzB"
      }
    },
    {
      "cell_type": "markdown",
      "source": [
        "> Operadores lógicos más comunes\n",
        "\n",
        "|a|b|AND|OR|NOT|\n",
        "|-|-|-|-|-|\n",
        "|0|0|0|0|1\n",
        "|0|1|0|1|-\n",
        "|1|0|0|1|-\n",
        "|1|1|1|1|0\n"
      ],
      "metadata": {
        "id": "2E5aUogf-49u"
      }
    },
    {
      "cell_type": "code",
      "source": [
        "v = True\n",
        "f = False"
      ],
      "metadata": {
        "id": "DFKmpvmS-Pa6"
      },
      "execution_count": null,
      "outputs": []
    },
    {
      "cell_type": "code",
      "source": [
        "if v and v:\n",
        "  print('La condicion es verdadera')\n",
        "else:\n",
        "  print('la condicio es falsa')"
      ],
      "metadata": {
        "id": "W5BIrpOD-PeI",
        "colab": {
          "base_uri": "https://localhost:8080/"
        },
        "outputId": "54f8487e-f0a4-49e9-ab5c-ffdc37725738"
      },
      "execution_count": null,
      "outputs": [
        {
          "output_type": "stream",
          "name": "stdout",
          "text": [
            "La condicion es verdadera\n"
          ]
        }
      ]
    },
    {
      "cell_type": "code",
      "source": [
        "if f and v:\n",
        "  print('La condicion es verdadera')\n",
        "else:\n",
        "  print('la condicio es falsa')"
      ],
      "metadata": {
        "colab": {
          "base_uri": "https://localhost:8080/"
        },
        "id": "nMPDuYtNHEUo",
        "outputId": "10903acd-5900-40d3-8f62-b2aa8f6addba"
      },
      "execution_count": null,
      "outputs": [
        {
          "output_type": "stream",
          "name": "stdout",
          "text": [
            "la condicio es falsa\n"
          ]
        }
      ]
    },
    {
      "cell_type": "code",
      "source": [
        "if f and f:\n",
        "  print('La condicion es verdadera')\n",
        "else:\n",
        "  print('la condicio es falsa')"
      ],
      "metadata": {
        "colab": {
          "base_uri": "https://localhost:8080/"
        },
        "id": "dOlkeCGXHHkm",
        "outputId": "f813f362-7b2a-44e6-b9c3-859b22ad4106"
      },
      "execution_count": null,
      "outputs": [
        {
          "output_type": "stream",
          "name": "stdout",
          "text": [
            "la condicio es falsa\n"
          ]
        }
      ]
    },
    {
      "cell_type": "code",
      "source": [
        "if v or v:\n",
        "  print('La condicion es verdadera')\n",
        "else:\n",
        "  print('la condicio es falsa')"
      ],
      "metadata": {
        "colab": {
          "base_uri": "https://localhost:8080/"
        },
        "id": "ejSgUgQiHLHy",
        "outputId": "5d94de53-5fb0-417f-93b4-84ad82e4a26d"
      },
      "execution_count": null,
      "outputs": [
        {
          "output_type": "stream",
          "name": "stdout",
          "text": [
            "La condicion es verdadera\n"
          ]
        }
      ]
    },
    {
      "cell_type": "code",
      "source": [
        "if f or v:\n",
        "  print('La condicion es verdadera')\n",
        "else:\n",
        "  print('la condicio es falsa')"
      ],
      "metadata": {
        "colab": {
          "base_uri": "https://localhost:8080/"
        },
        "id": "drhcMxaSHQ4o",
        "outputId": "bd5a31d2-c256-42a7-9f61-6e4780656c04"
      },
      "execution_count": null,
      "outputs": [
        {
          "output_type": "stream",
          "name": "stdout",
          "text": [
            "La condicion es verdadera\n"
          ]
        }
      ]
    },
    {
      "cell_type": "code",
      "source": [
        "if f or f:\n",
        "  print('La condicion es verdadera')\n",
        "else:\n",
        "  print('la condicio es falsa')"
      ],
      "metadata": {
        "colab": {
          "base_uri": "https://localhost:8080/"
        },
        "id": "dR8W982rHVIf",
        "outputId": "bbee2405-e2f2-441b-8bc5-46f714930535"
      },
      "execution_count": null,
      "outputs": [
        {
          "output_type": "stream",
          "name": "stdout",
          "text": [
            "la condicio es falsa\n"
          ]
        }
      ]
    },
    {
      "cell_type": "code",
      "source": [
        "if not v:\n",
        "  print('La condicion es verdadera')\n",
        "else:\n",
        "  print('la condicio es falsa')"
      ],
      "metadata": {
        "colab": {
          "base_uri": "https://localhost:8080/"
        },
        "id": "1EuFjtVzHZIJ",
        "outputId": "58898728-4de4-4620-e5c5-9e633b3bf481"
      },
      "execution_count": null,
      "outputs": [
        {
          "output_type": "stream",
          "name": "stdout",
          "text": [
            "la condicio es falsa\n"
          ]
        }
      ]
    },
    {
      "cell_type": "code",
      "source": [
        "if not f:\n",
        "  print('La condicion es verdadera')\n",
        "else:\n",
        "  print('la condicio es falsa')"
      ],
      "metadata": {
        "id": "fpDhYxq4-PiM",
        "colab": {
          "base_uri": "https://localhost:8080/"
        },
        "outputId": "1d93130b-d6ab-43db-885f-4ed0bbc5aeb5"
      },
      "execution_count": null,
      "outputs": [
        {
          "output_type": "stream",
          "name": "stdout",
          "text": [
            "La condicion es verdadera\n"
          ]
        }
      ]
    },
    {
      "cell_type": "markdown",
      "source": [
        "### `IN`\n",
        "\n",
        "Es usado para verificar si un elemento está presente en una lista, tupla u otra colección de conjunto. La expresión `x in y` se evalúa como `True` si el elemento `x` esta presente na variávelen la variable de conjunto `y`, y como `False` en caso contrario."
      ],
      "metadata": {
        "id": "w7EXG1dhWtja"
      }
    },
    {
      "cell_type": "markdown",
      "source": [
        "Podemos verificarlo con variables de texto.\n",
        "\n",
        "---\n",
        "\n",
        "**Situación:**\n",
        "\n",
        "En la escuela nos entregaron una lista con nombres de estudiantes que fueron aprobados según el promedio del semestre, pero es necesario verificar si algunos nombres están en esa lista para confirmar que los datos estén correctos.\n",
        "\n",
        "La lista distribuida puede ser observada a continuación:\n",
        "\n",
        "```\n",
        "lista = 'Juan Pérez, María González, Pedro Rodríguez, Ana López, Carlos Martínez,\n",
        "    Laura Sánchez, José García, Elena Fernández, Luis Morales, Carmen Torres,\n",
        "    David Ruiz, Isabel Ramírez, Javier Díaz, Sara Herrera, Miguel Castro,\n",
        "    Patricia Ortega, Francisco Vargas, Marta Jiménez, Manuel Medina, Rosa Molina,\n",
        "    Alejandro Silva, Silvia Ruiz, Andrés Torres, Natalia Soto, Diego Guerrero,\n",
        "    Paula Ríos, Ricardo Navarro, Alicia Cordero, Carlos Vidal, Lorena Gómez'\n",
        "```\n",
        "\n",
        "Los nombres que necesitas verificar son los siguientes:\n",
        "\n",
        "```\n",
        "nombre_1 = 'Miguel Castro'\n",
        "nombre_2 = 'Marcelo Noguera'\n",
        "```"
      ],
      "metadata": {
        "id": "enJNp6JenQbq"
      }
    },
    {
      "cell_type": "code",
      "source": [
        "lista = 'Juan Pérez, María González, Pedro Rodríguez, Ana López, Carlos Martínez, Laura Sánchez, José García, Elena Fernández, Luis Morales, Carmen Torres, David Ruiz, Isabel Ramírez, Javier Díaz, Sara Herrera, Miguel Castro, Patricia Ortega, Francisco Vargas, Marta Jiménez, Manuel Medina, Rosa Molina, Alejandro Silva, Silvia Ruiz, Andrés Torres, Natalia Soto, Diego Guerrero, Paula Ríos, Ricardo Navarro, Alicia Cordero, Carlos Vidal, Lorena Gómez'"
      ],
      "metadata": {
        "id": "gPPN9BCT-Mki"
      },
      "execution_count": null,
      "outputs": []
    },
    {
      "cell_type": "code",
      "source": [
        "nombre_1 = 'Miguel Castro'\n",
        "nombre_2 = 'Marcelo Noguera'"
      ],
      "metadata": {
        "id": "GINbG3Fa-Mnb"
      },
      "execution_count": null,
      "outputs": []
    },
    {
      "cell_type": "code",
      "source": [
        "if nombre_1 in lista:\n",
        "  print('Estudiante aprobó')\n",
        "else:\n",
        "  print('Estudiante reprobo')"
      ],
      "metadata": {
        "id": "hk-RhNRT-Mp7",
        "colab": {
          "base_uri": "https://localhost:8080/"
        },
        "outputId": "952d7183-19bb-4dab-8b64-ce299fe03fdd"
      },
      "execution_count": null,
      "outputs": [
        {
          "output_type": "stream",
          "name": "stdout",
          "text": [
            "Estudiante aprobó\n"
          ]
        }
      ]
    },
    {
      "cell_type": "code",
      "source": [
        "if nombre_2 in lista:\n",
        "  print('Estudiante aprobó')\n",
        "else:\n",
        "  print('Estudiante reprobo')"
      ],
      "metadata": {
        "colab": {
          "base_uri": "https://localhost:8080/"
        },
        "id": "Q-nM4P-OVMsL",
        "outputId": "6ba0623b-5dd3-476a-895e-1b11093c3d7b"
      },
      "execution_count": null,
      "outputs": [
        {
          "output_type": "stream",
          "name": "stdout",
          "text": [
            "Estudiante reprobo\n"
          ]
        }
      ]
    },
    {
      "cell_type": "markdown",
      "source": [
        "# **Desafio Unidad 3**"
      ],
      "metadata": {
        "id": "6JAskqR3VaQ8"
      }
    },
    {
      "cell_type": "markdown",
      "source": [
        "1 - Escribe un programa que pida a la persona usuaria que proporcione dos números y muestre el número más grande."
      ],
      "metadata": {
        "id": "KAPkXvXVVt8h"
      }
    },
    {
      "cell_type": "code",
      "source": [
        "numero_1 = int(input('Ingresa primer numero entero: '))\n",
        "numero_2 = int(input('Ingresa segundo numero entero: '))\n",
        "numero_mayor = max(numero_1,numero_2)\n",
        "print(f'El numero mayor es: {numero_mayor}')"
      ],
      "metadata": {
        "colab": {
          "base_uri": "https://localhost:8080/"
        },
        "id": "yUOdDWk6W-Lq",
        "outputId": "4abb02b2-ef67-42c1-ee5f-2622d66058cb"
      },
      "execution_count": null,
      "outputs": [
        {
          "output_type": "stream",
          "name": "stdout",
          "text": [
            "Ingresa primer numero entero: 5\n",
            "Ingresa segundo numero entero: 15\n",
            "El numero mayor es: 15\n"
          ]
        }
      ]
    },
    {
      "cell_type": "markdown",
      "source": [
        "2 - Escribe un programa que solicite el porcentaje de crecimiento de producción de una empresa e informe si hubo un crecimiento (porcentaje positivo) o una disminución (porcentaje negativo)."
      ],
      "metadata": {
        "id": "ThfsNXcjVu3p"
      }
    },
    {
      "cell_type": "code",
      "source": [
        "variación = float(input('Ingresa el porcentaje de crecimiento: '))\n",
        "\n",
        "if variación > 0:\n",
        "    print(f'Hubo un crecimiento del {variación}%')\n",
        "elif variación < 0:\n",
        "    print(f'Hubo un decrecimiento del {variación}%')\n",
        "else:\n",
        "    print('No hubo crecimiento ni decrecimiento.')"
      ],
      "metadata": {
        "colab": {
          "base_uri": "https://localhost:8080/"
        },
        "id": "N1Sr6a3YYOVp",
        "outputId": "28fc977e-4d1f-4d4a-bd12-5a1729641c6e"
      },
      "execution_count": null,
      "outputs": [
        {
          "output_type": "stream",
          "name": "stdout",
          "text": [
            "Ingresa el porcentaje de crecimiento: -48\n",
            "Hubo un decrecimiento del -48.0%\n"
          ]
        }
      ]
    },
    {
      "cell_type": "markdown",
      "source": [
        "3 - Escribe un programa que determine si una letra proporcionada por la persona usuaria es una vocal o una consonante."
      ],
      "metadata": {
        "id": "S-skG1JaVzoP"
      }
    },
    {
      "cell_type": "code",
      "source": [
        "vocales = 'aeiou'\n",
        "letra = input('Ingresa letra: ').lower()\n",
        "\n",
        "if letra in vocales:\n",
        "  print('La letra es una vocal')\n",
        "else:\n",
        "  print('La letra es una consonante')"
      ],
      "metadata": {
        "colab": {
          "base_uri": "https://localhost:8080/"
        },
        "id": "G0Si_B_dZYfa",
        "outputId": "5052170a-d556-4ccd-e356-b7575f62b5e3"
      },
      "execution_count": null,
      "outputs": [
        {
          "output_type": "stream",
          "name": "stdout",
          "text": [
            "Ingresa letra: r\n",
            "La letra es una consonante\n"
          ]
        }
      ]
    },
    {
      "cell_type": "markdown",
      "source": [
        "4 - Escribe un programa que lea valores promedio de precios de un modelo de automóvil durante 3 años consecutivos y muestre el valor más alto y más bajo entre esos tres años."
      ],
      "metadata": {
        "id": "Nf2uvDFUV0XN"
      }
    },
    {
      "cell_type": "code",
      "source": [
        "valor_1 = float(input('Ingrea el valor del auto en el primer año'))\n",
        "valor_2 = float(input('Ingrea el valor del auto en el segundo año'))\n",
        "valor_3 = float(input('Ingrea el valor del auto en el tercer año'))\n",
        "\n",
        "valor_mayor = max(valor_1, valor_2, valor_3)\n",
        "valor_menor = min(valor_1, valor_2, valor_3)\n",
        "\n",
        "print(f'El valor mayor es {valor_mayor}')\n",
        "print(f'El valor menor es {valor_menor}')"
      ],
      "metadata": {
        "colab": {
          "base_uri": "https://localhost:8080/"
        },
        "id": "HreR6jM0aHxB",
        "outputId": "df8d07c6-b74a-4363-b6cc-709c031c80f4"
      },
      "execution_count": null,
      "outputs": [
        {
          "output_type": "stream",
          "name": "stdout",
          "text": [
            "Ingrea el valor del auto en el primer año250000\n",
            "Ingrea el valor del auto en el segundo año300000\n",
            "Ingrea el valor del auto en el tercer año400000\n",
            "El valor mayor es 400000.0\n",
            "El valor menor es 250000.0\n"
          ]
        }
      ]
    },
    {
      "cell_type": "markdown",
      "source": [
        "5 - Escribe un programa que pregunte sobre el precio de tres productos e indique cuál es el producto más barato para comprar."
      ],
      "metadata": {
        "id": "P7o3wcEhV3NL"
      }
    },
    {
      "cell_type": "code",
      "source": [
        "valor_1 = float(input('Ingrea el valor del primer producto: '))\n",
        "valor_2 = float(input('Ingrea el valor del segundo producto: '))\n",
        "valor_3 = float(input('Ingrea el valor del tercer producto: '))\n",
        "\n",
        "valor_menor = min(valor_1, valor_2, valor_3)\n",
        "\n",
        "print(f'El valor menor es {valor_menor}')"
      ],
      "metadata": {
        "colab": {
          "base_uri": "https://localhost:8080/"
        },
        "id": "L52_XqWEbmlv",
        "outputId": "a9c68848-ce28-46fb-edbf-1e66f2dbf169"
      },
      "execution_count": null,
      "outputs": [
        {
          "output_type": "stream",
          "name": "stdout",
          "text": [
            "Ingrea el valor del primer producto: 15\n",
            "Ingrea el valor del segundo producto: 20\n",
            "Ingrea el valor del tercer producto: 30\n",
            "El valor menor es 15.0\n"
          ]
        }
      ]
    },
    {
      "cell_type": "markdown",
      "source": [
        "6 - Escribe un programa que lea tres números y los muestre en orden descendente."
      ],
      "metadata": {
        "id": "BApTHJcdV5Jd"
      }
    },
    {
      "cell_type": "code",
      "source": [
        "numeros = []\n",
        "numeros.append(int(input('Agrega primer numero: ')))\n",
        "numeros.append(int(input('Agrega segundo numero: ')))\n",
        "numeros.append(int(input('Agrega tercer numero: ')))\n",
        "\n",
        "numeros.sort()\n",
        "print(f'La lista ordenada es: {numeros}')"
      ],
      "metadata": {
        "colab": {
          "base_uri": "https://localhost:8080/"
        },
        "id": "Te4P2kU_c2sh",
        "outputId": "d7bbccf2-4c28-4ac9-eb37-0029facacdde"
      },
      "execution_count": null,
      "outputs": [
        {
          "output_type": "stream",
          "name": "stdout",
          "text": [
            "Agrega primer numero: 85\n",
            "Agrega segundo numero: 100\n",
            "Agrega tercer numero: 6\n",
            "La lista ordenada es: [6, 85, 100]\n"
          ]
        }
      ]
    },
    {
      "cell_type": "markdown",
      "source": [
        "7 -Escribe un programa que pregunte en qué turno estudia la persona usuaria (\"mañana\", \"tarde\" o \"noche\") y muestre el mensaje \"¡Buenos Días!\", \"¡Buenas Tardes!\", \"¡Buenas Noches!\" o \"Valor Inválido!\", según el caso."
      ],
      "metadata": {
        "id": "2qFFBm9nV697"
      }
    },
    {
      "cell_type": "code",
      "source": [
        "turno = input('En que turno trabajas (mañana, tarde o noche): ')\n",
        "\n",
        "if turno == 'mañana':\n",
        "  print('¡Buenos Días!')\n",
        "elif turno == 'tarde':\n",
        "  print('¡Buenas Tardes!')\n",
        "elif turno == 'noche':\n",
        "  print('¡Buenas noches!')\n",
        "else:\n",
        "  print('turno no identificado')"
      ],
      "metadata": {
        "colab": {
          "base_uri": "https://localhost:8080/"
        },
        "id": "94rcQbEMeIqb",
        "outputId": "0d840b6e-dd37-4531-8189-6740389b95e8"
      },
      "execution_count": null,
      "outputs": [
        {
          "output_type": "stream",
          "name": "stdout",
          "text": [
            "En que turno trabajas (mañana, tarde o noche): noche\n",
            "¡Buenas noches!\n"
          ]
        }
      ]
    },
    {
      "cell_type": "markdown",
      "source": [
        "8 - Escribe un programa que solicite un número entero a la persona usuaria y determine si es par o impar. Pista: Puedes usar el operador módulo (%)."
      ],
      "metadata": {
        "id": "wxK4g9dtV8uj"
      }
    },
    {
      "cell_type": "code",
      "source": [
        "numero = int(input('Ingresa numero entero: '))\n",
        "\n",
        "if numero % 2 == 0:\n",
        "  print('El numero es par')\n",
        "else:\n",
        "  print('El numero es impar')"
      ],
      "metadata": {
        "colab": {
          "base_uri": "https://localhost:8080/"
        },
        "id": "FBmeyxxLgJlR",
        "outputId": "d3ab429b-931c-4225-d423-b69731827d84"
      },
      "execution_count": null,
      "outputs": [
        {
          "output_type": "stream",
          "name": "stdout",
          "text": [
            "Ingresa numero entero: 7\n",
            "El numero es impar\n"
          ]
        }
      ]
    },
    {
      "cell_type": "markdown",
      "source": [
        "9 - Escribe un programa que pida un número a la persona usuaria y le informe si es entero o decimal."
      ],
      "metadata": {
        "id": "x7uKnED_V-ZB"
      }
    },
    {
      "cell_type": "code",
      "source": [
        "numero = float(input('Ingresa numero: '))\n",
        "\n",
        "if numero % 1 == 0:\n",
        "  print('El numero es entero')\n",
        "else:\n",
        "  print('El numero es decimal')"
      ],
      "metadata": {
        "colab": {
          "base_uri": "https://localhost:8080/"
        },
        "id": "RSkCzznEgvhA",
        "outputId": "babc9c78-074b-4cb3-c013-bc39f7b2b74c"
      },
      "execution_count": null,
      "outputs": [
        {
          "output_type": "stream",
          "name": "stdout",
          "text": [
            "Ingresa numero: 45.6\n",
            "El numero es decimal\n"
          ]
        }
      ]
    },
    {
      "cell_type": "markdown",
      "source": [
        "10 - Un programa debe ser escrito para leer dos números y luego preguntar a la persona usuaria qué operación desea realizar. El resultado de la operación debe incluir información sobre el número, si es par o impar, positivo o negativo, e entero o decimal."
      ],
      "metadata": {
        "id": "TyYzx3jSWABI"
      }
    },
    {
      "cell_type": "code",
      "source": [
        "numero_1 = float(input('Ingresa primer numero: '))\n",
        "numero_2 = float(input('Ingresa segundo numero: '))\n",
        "operacion = input('Que operacion dese realizar (+,-,*,/): ')\n",
        "resultado = 0\n",
        "operacion_existe = True\n",
        "\n",
        "if operacion == '+':\n",
        "  resultado = numero_1 + numero_2\n",
        "  print(f'La suma es: {resultado}')\n",
        "elif operacion == '-':\n",
        "  resultado = numero_1 - numero_2\n",
        "  print(f'La resta es: {resultado}')\n",
        "elif operacion == '*':\n",
        "  resultado = numero_1 * numero_2\n",
        "  print(f'El producto es: {resultado}')\n",
        "elif operacion == '/':\n",
        "  resultado = numero_1 / numero_2\n",
        "  print(f'El cociente es: {resultado}')\n",
        "else:\n",
        "  print('no existe esa operacion')\n",
        "  existe_operacion = False\n",
        "\n",
        "if operacion_existe:\n",
        "  if resultado % 1 == 0:\n",
        "    print('El resultado es un número entero.')\n",
        "  else:\n",
        "    print('El resultado es un número decimal.')\n",
        "\n",
        "  if resultado > 0:\n",
        "    print('El resultado es positivo.')\n",
        "  else:\n",
        "    print('El resultado es negativo.')\n",
        "\n",
        "  if resultado % 2 == 0:\n",
        "    print('El resultado es un número par.')\n",
        "  else:\n",
        "    print('El resultado es un número impar.')"
      ],
      "metadata": {
        "colab": {
          "base_uri": "https://localhost:8080/"
        },
        "id": "C3ENFkTjhqrh",
        "outputId": "f0f8af91-a8b7-403f-b8ba-371b5012c399"
      },
      "execution_count": null,
      "outputs": [
        {
          "output_type": "stream",
          "name": "stdout",
          "text": [
            "Ingresa primer numero: 10\n",
            "Ingresa segundo numero: 2\n",
            "Que operacion dese realizar (+,-,*,/): /\n",
            "El cociente es: 5.0\n",
            "El resultado es un número entero.\n",
            "El resultado es positivo.\n",
            "El resultado es un número impar.\n"
          ]
        }
      ]
    },
    {
      "cell_type": "markdown",
      "source": [
        "11 - Escribe un programa que pida a la persona usuaria tres números que representan los lados de un triángulo. El programa debe informar si los valores pueden utilizarse para formar un triángulo y, en caso afirmativo, si es equilátero, isósceles o escaleno. Ten en cuenta algunas sugerencias:\n",
        "\n",
        "*   Tres lados forman un triángulo cuando la suma de cualesquiera dos lados es mayor que el tercero;\n",
        "*   Triángulo Equilátero: tres lados iguales;\n",
        "*   Triángulo Isósceles: dos lados iguales;\n",
        "*   Triángulo Escaleno: tres lados diferentes.\n",
        "\n",
        "\n",
        "\n",
        "\n",
        "\n",
        "\n",
        "\n",
        "\n",
        "\n"
      ],
      "metadata": {
        "id": "8J3G6MXkWDQf"
      }
    },
    {
      "cell_type": "code",
      "source": [
        "lado_1 = float(input('Ingresa primer lado: '))\n",
        "lado_2 = float(input('Ingresa segundo lado: '))\n",
        "lado_3 = float(input('Ingresa tercer lado: '))\n",
        "\n",
        "if (lado_1 + lado_2 > lado_3) and (lado_2 + lado_3 > lado_1) and (lado_1 + lado_3 > lado_2):\n",
        "    print('>>> Los valores pueden formar un triángulo <<<')\n",
        "    if (lado_1 == lado_2) and (lado_2 == lado_3):\n",
        "        print('El triángulo es equilátero.')\n",
        "    elif (lado_1 != lado_2) and (lado_2 != lado_3) and (lado_1 != lado_3):\n",
        "        print('El triángulo es escaleno.')\n",
        "    else:\n",
        "        print('El triángulo es isósceles.')\n",
        "else:\n",
        "    print('>>> Los valores no pueden formar un triángulo <<<')"
      ],
      "metadata": {
        "colab": {
          "base_uri": "https://localhost:8080/"
        },
        "id": "XIETjImhlnYF",
        "outputId": "959838af-8947-427f-b450-759fd6d7a32b"
      },
      "execution_count": null,
      "outputs": [
        {
          "output_type": "stream",
          "name": "stdout",
          "text": [
            "Ingresa primer lado: 50\n",
            "Ingresa segundo lado: 50\n",
            "Ingresa tercer lado: 10\n",
            ">>> Los valores pueden formar un triángulo <<<\n",
            "El triángulo es isósceles.\n"
          ]
        }
      ]
    },
    {
      "cell_type": "markdown",
      "source": [
        "12 - Un establecimiento está vendiendo combustibles con descuentos variables. Para el etanol, si la cantidad comprada es de hasta 15 litros, el descuento será del 2% por litro. En caso contrario, será del 4% por litro. Para el diésel, si la cantidad comprada es de hasta 15 litros, el descuento será del 3% por litro. En caso contrario, será del 5% por litro. El precio por litro de diésel es de R$ 2,00 y el precio por litro de etanol es de R$ 1,70. Escribe un programa que lea la cantidad de litros vendidos y el tipo de combustible (E para etanol y D para diésel) y calcule el valor a pagar por el cliente. Ten en cuenta algunas sugerencias:\n",
        "\n",
        "*   El valor del descuento será el producto del precio por litro, la cantidad de litros y el valor del descuento.\n",
        "*   El valor a pagar por un cliente será el resultado de la multiplicación del precio por litro por la cantidad de litros menos el valor del descuento resultante del cálculo.\n",
        "\n",
        "\n"
      ],
      "metadata": {
        "id": "3VooAddKWYQq"
      }
    },
    {
      "cell_type": "code",
      "source": [
        "cantidad_litros = float(input('Ingrese la cantidad de litros vendidos: '))\n",
        "tipo_combustible = input('Ingrese el tipo de combustible (E para etanol y D para diésel): ').upper()\n",
        "\n",
        "if tipo_combustible == 'E':\n",
        "  precio_litro = 1.70\n",
        "  if cantidad_litros <= 15:\n",
        "    descuento = 0.02\n",
        "  else:\n",
        "    descuento = 0.04\n",
        "elif tipo_combustible == 'D':\n",
        "  precio_litro = 2.00\n",
        "  if cantidad_litros <= 15:\n",
        "    descuento = 0.03\n",
        "  else:\n",
        "    descuento = 0.05\n",
        "else:\n",
        "    print('Entradas no válidas!')\n",
        "    precio_litro = 0\n",
        "    descuento = 0\n",
        "\n",
        "valor_descuento = precio_litro * cantidad_litros * descuento\n",
        "valor_pagado = precio_litro * cantidad_litros - valor_descuento\n",
        "\n",
        "print(f'Valor a pagar por el cliente: $ {valor_pagado}')"
      ],
      "metadata": {
        "colab": {
          "base_uri": "https://localhost:8080/"
        },
        "id": "JMX3xAuKngbV",
        "outputId": "43349100-8361-44c2-ac34-d6a4a49d560d"
      },
      "execution_count": null,
      "outputs": [
        {
          "output_type": "stream",
          "name": "stdout",
          "text": [
            "Ingrese la cantidad de litros vendidos: 15\n",
            "Ingrese el tipo de combustible (E para etanol y D para diésel): D\n",
            "Valor a pagar por el cliente: $ 29.1\n"
          ]
        }
      ]
    },
    {
      "cell_type": "markdown",
      "source": [
        "13 - En una empresa de venta de bienes raíces, debes crear un código que analice los datos de ventas anuales para ayudar a la dirección en la toma de decisiones. El código debe recopilar los datos de cantidad de ventas durante los años 2022 y 2023 y calcular la variación porcentual. A partir del valor de la variación, se deben proporcionar las siguientes sugerencias:\n",
        "\n",
        "*   Para una variación superior al 20%: bonificación para el equipo de ventas.\n",
        "*   Para una variación entre el 2% y el 20%: pequeña bonificación para el equipo de ventas.\n",
        "*   Para una variación entre el 2% y el -10%: planificación de políticas de incentivo a las ventas.\n",
        "*   Para bonificaciones inferiores al -10%: recorte de gastos."
      ],
      "metadata": {
        "id": "IZFBuV8wWmZf"
      }
    },
    {
      "cell_type": "code",
      "source": [
        "venta_2022 = float(input('Ingrese la cantidad de ventas en 2022: '))\n",
        "venta_2023 = float(input('Ingrese la cantidad de ventas en 2023: '))\n",
        "\n",
        "var_porcentual = 100 * (venta_2023 - venta_2022) / (venta_2022)\n",
        "\n",
        "if var_porcentual > 20:\n",
        "    print('Bonificación para el equipo de ventas.')\n",
        "elif 2 <= var_porcentual <= 20:\n",
        "    print('Pequeña bonificación para el equipo de ventas.')\n",
        "elif -10 <= var_porcentual < 2:\n",
        "    print('Planificación de políticas de incentivo a las ventas.')\n",
        "else:\n",
        "    print('Recorte de gastos.')"
      ],
      "metadata": {
        "colab": {
          "base_uri": "https://localhost:8080/"
        },
        "id": "CD__fvA2v85z",
        "outputId": "3796497e-fad5-45c8-8253-5cca8a68c68f"
      },
      "execution_count": null,
      "outputs": [
        {
          "output_type": "stream",
          "name": "stdout",
          "text": [
            "Ingrese la cantidad de ventas en 2022: 500000\n",
            "Ingrese la cantidad de ventas en 2023: 300000\n",
            "Recorte de gastos.\n"
          ]
        }
      ]
    },
    {
      "cell_type": "markdown",
      "source": [
        "# Estructuras de repetición"
      ],
      "metadata": {
        "id": "aL1vJPewvwvz"
      }
    },
    {
      "cell_type": "markdown",
      "source": [
        "Cuando tenemos que ejecutar un mismo bloque de comandos durante varias ocasiones no es nada práctico hacerlo a mano.\n",
        "\n",
        "**Situación**: Nos fue solicitado obtener e imprimir el promedio de 2 notas de **3 estudantes**:"
      ],
      "metadata": {
        "id": "VcPfCa8d-84t"
      }
    },
    {
      "cell_type": "code",
      "source": [
        "nota_1 = float(input('Ingresa la primer nota: '))\n",
        "nota_2 = float(input('Ingresa la segunda nota: '))\n",
        "print(f'El promedio del primer estudiante es: {(nota_1+nota_2)/2}')\n",
        "nota_1 = float(input('Ingresa la primer nota: '))\n",
        "nota_2 = float(input('Ingresa la segunda nota: '))\n",
        "print(f'El promedio de segundo estudiante es: {(nota_1+nota_2)/2}')\n",
        "nota_1 = float(input('Ingresa la primer nota: '))\n",
        "nota_2 = float(input('Ingresa la segunda nota: '))\n",
        "print(f'El promedio de tercer estudiante es: {(nota_1+nota_2)/2}')\n"
      ],
      "metadata": {
        "id": "xcx21IGT9qA0",
        "colab": {
          "base_uri": "https://localhost:8080/"
        },
        "outputId": "9892ad3e-34a4-4e19-df41-2b0fb17edd73"
      },
      "execution_count": null,
      "outputs": [
        {
          "output_type": "stream",
          "name": "stdout",
          "text": [
            "Ingresa la primer nota: 8\n",
            "Ingresa la segunda nota: 9\n",
            "El promedio del primer estudiante es: 8.5\n",
            "Ingresa la primer nota: 10\n",
            "Ingresa la segunda nota: 9\n",
            "El promedio de segundo estudiante es: 9.5\n",
            "Ingresa la primer nota: 5\n",
            "Ingresa la segunda nota: 8\n",
            "El promedio de tercer estudiante es: 6.5\n"
          ]
        }
      ]
    },
    {
      "cell_type": "markdown",
      "source": [
        "Ahora imaginemos una situación en que no son tan solo 3 estudiantes, sino 100 estudiantes. No sería nada interesante repetir el mismo código 100 veces, sino **ejecutar el mismo código 100 veces**.\n",
        "\n",
        "¡Esta estructura la logramos construir con lazos de repetición!"
      ],
      "metadata": {
        "id": "9puIuvUbFSFX"
      }
    },
    {
      "cell_type": "markdown",
      "source": [
        "## `WHILE`"
      ],
      "metadata": {
        "id": "uLO9-aE4-wx8"
      }
    },
    {
      "cell_type": "markdown",
      "source": [
        "El lazo `while` es una estructura de control de repetición en Python que permite ejecutar un bloque de código repetidamente mientras que una determinada condición sea verdadera. Su estructura es:\n",
        "\n",
        "\n",
        "\n",
        "```\n",
        "while condicion:\n",
        "    # bloque de codigo\n",
        "```\n",
        "\n",
        "Vamos a construir un ejemplo con un contador de 1 hasta 10.\n"
      ],
      "metadata": {
        "id": "rXZxDMiqHxm9"
      }
    },
    {
      "cell_type": "code",
      "source": [
        "contador = 1\n",
        "while contador <= 10:\n",
        "  print(contador)\n",
        "  contador += 1"
      ],
      "metadata": {
        "id": "Hd0ZSWxD9wCD",
        "colab": {
          "base_uri": "https://localhost:8080/"
        },
        "outputId": "d00e8cf9-905e-4398-bcdf-ffec820e1c39"
      },
      "execution_count": null,
      "outputs": [
        {
          "output_type": "stream",
          "name": "stdout",
          "text": [
            "1\n",
            "2\n",
            "3\n",
            "4\n",
            "5\n",
            "6\n",
            "7\n",
            "8\n",
            "9\n",
            "10\n"
          ]
        }
      ]
    },
    {
      "cell_type": "markdown",
      "source": [
        "Ahora vamos a colectar las notas y promedios de cada alumno dentro del lazo `while`. Haremos un ejemplo con 3 promedios."
      ],
      "metadata": {
        "id": "W4KZPBJuIrut"
      }
    },
    {
      "cell_type": "code",
      "source": [
        "contador = 1\n",
        "while contador <= 3:\n",
        "  nota_1 = float(input('Ingresa la primer nota: '))\n",
        "  nota_2 = float(input('Ingresa la segunda nota: '))\n",
        "  print(f'El promedio del estudiante es: {(nota_1+nota_2)/2}')\n",
        "  contador += 1"
      ],
      "metadata": {
        "id": "9T5eCLFx9wk6",
        "colab": {
          "base_uri": "https://localhost:8080/"
        },
        "outputId": "4f6da2c4-a7bf-4e3f-a10a-189a2edb2bc0"
      },
      "execution_count": null,
      "outputs": [
        {
          "output_type": "stream",
          "name": "stdout",
          "text": [
            "Ingresa la primer nota: 5\n",
            "Ingresa la segunda nota: 7\n",
            "El promedio del estudiante es: 6.0\n",
            "Ingresa la primer nota: 6\n",
            "Ingresa la segunda nota: 9\n",
            "El promedio del estudiante es: 7.5\n",
            "Ingresa la primer nota: 10\n",
            "Ingresa la segunda nota: 9\n",
            "El promedio del estudiante es: 9.5\n"
          ]
        }
      ]
    },
    {
      "cell_type": "markdown",
      "source": [
        "## `FOR`"
      ],
      "metadata": {
        "id": "WgAIaENMMfCP"
      }
    },
    {
      "cell_type": "markdown",
      "source": [
        "El lazo `for` es un tipo de estructura de control de flujo en Python que permite iterar sobre un conjunto de elementos. Su estructura es:\n",
        "\n",
        "\n",
        "\n",
        "```\n",
        "for elemento in conjunto:\n",
        "    # codigo a ser ejecutado para cada elemento\n",
        "```\n",
        "\n",
        "El lazo `for` itera sobre cada elemento del conjunto especificado y ejecuta el bloque de código dentro del lazo para cada elemento. Cuando el lazo llega al final del conjunto, este se interrumpe y el programa continúa la ejecución después del lazo.\n",
        "\n"
      ],
      "metadata": {
        "id": "HxrSZoRAMh-x"
      }
    },
    {
      "cell_type": "markdown",
      "source": [
        "El conjunto lo podemos generar con la función incorporada [`range()`](https://docs.python.org/3/library/functions.html#func-range). Se trata de una función capaz de generar una secuencia de números enteros. La estructura de esta función es:\n",
        "\n",
        "```\n",
        "range(inicio, fin, paso)\n",
        "```\n",
        "\n",
        "Según la documentación, `range()` genera una secuencia de números enteros a partir del valor del parámetro `inicio` hasta el valor del parámetro `fin`, de acuerdo con el valor del parámetro `paso`. Si `inicio` no es especificado, el valor por defecto es `0`. Si `paso` no es especificado, el valor por defecto es `1`.\n",
        "\n",
        "\n"
      ],
      "metadata": {
        "id": "6VgjyoQtPHBM"
      }
    },
    {
      "cell_type": "markdown",
      "source": [
        "Vamos a recrear el mismo contador `while` con el lazo `for`."
      ],
      "metadata": {
        "id": "ryn0hfdlUwC8"
      }
    },
    {
      "cell_type": "code",
      "source": [
        "for n in range(1,11):\n",
        "  print(n)"
      ],
      "metadata": {
        "id": "uXIZnLSr9jOu",
        "colab": {
          "base_uri": "https://localhost:8080/"
        },
        "outputId": "60f0b66d-b7f5-440b-fad0-6c95960233cd"
      },
      "execution_count": null,
      "outputs": [
        {
          "output_type": "stream",
          "name": "stdout",
          "text": [
            "1\n",
            "2\n",
            "3\n",
            "4\n",
            "5\n",
            "6\n",
            "7\n",
            "8\n",
            "9\n",
            "10\n"
          ]
        }
      ]
    },
    {
      "cell_type": "code",
      "source": [
        "for n in range(1,4):\n",
        "  nota_1 = float(input('Ingresa la primer nota: '))\n",
        "  nota_2 = float(input('Ingresa la segunda nota: '))\n",
        "  print(f'El promedio del estudiante es: {(nota_1+nota_2)/2}')"
      ],
      "metadata": {
        "colab": {
          "base_uri": "https://localhost:8080/"
        },
        "id": "ANbt7-LY0q8B",
        "outputId": "a23c5534-b57e-456c-b755-c7dbed2c55fa"
      },
      "execution_count": null,
      "outputs": [
        {
          "output_type": "stream",
          "name": "stdout",
          "text": [
            "Ingresa la primer nota: 5\n",
            "Ingresa la segunda nota: 8\n",
            "El promedio del estudiante es: 6.5\n",
            "Ingresa la primer nota: 9\n",
            "Ingresa la segunda nota: 10\n",
            "El promedio del estudiante es: 9.5\n",
            "Ingresa la primer nota: 5\n",
            "Ingresa la segunda nota: 5\n",
            "El promedio del estudiante es: 5.0\n"
          ]
        }
      ]
    },
    {
      "cell_type": "markdown",
      "source": [
        "# **Desafio Unidad 4**"
      ],
      "metadata": {
        "id": "cgJRD4Pw1Q_F"
      }
    },
    {
      "cell_type": "markdown",
      "source": [
        "# Estructuras de datos"
      ],
      "metadata": {
        "id": "8noP8OJ0Vhux"
      }
    },
    {
      "cell_type": "markdown",
      "source": [
        "1 - Escribe un programa que solicite dos números enteros e imprima todos los números enteros entre ellos."
      ],
      "metadata": {
        "id": "Kbmfq0vq1WbE"
      }
    },
    {
      "cell_type": "code",
      "source": [
        "num_1 = int(input('Ingresa primer numero entero: '))\n",
        "num_2 = int(input('Ingresa segundo numero entero: '))\n",
        "\n",
        "num_max = max(num_1, num_2)\n",
        "num_min = min(num_1, num_2)\n",
        "\n",
        "for n in range(num_min+1, num_max):\n",
        "  print(n)"
      ],
      "metadata": {
        "colab": {
          "base_uri": "https://localhost:8080/"
        },
        "id": "x_-GHDnD2N-3",
        "outputId": "7f0072d9-5f1e-41bc-84b0-4cfebc9b610f"
      },
      "execution_count": null,
      "outputs": [
        {
          "output_type": "stream",
          "name": "stdout",
          "text": [
            "Ingresa primer numero entero: 5\n",
            "Ingresa segundo numero entero: 15\n",
            "6\n",
            "7\n",
            "8\n",
            "9\n",
            "10\n",
            "11\n",
            "12\n",
            "13\n",
            "14\n"
          ]
        }
      ]
    },
    {
      "cell_type": "markdown",
      "source": [
        "2 - Escribe un programa para calcular cuántos días tomará que la colonia de una bacteria A supere o iguale a la colonia de una bacteria B, basado en tasas de crecimiento del 3% y 1.5%, respectivamente. Supón que la colonia A comienza con 4 elementos y B con 10."
      ],
      "metadata": {
        "id": "Li5IIbnH1Yan"
      }
    },
    {
      "cell_type": "code",
      "source": [
        "colonia_a = 4\n",
        "colonia_b = 10\n",
        "\n",
        "dias = 0\n",
        "\n",
        "while colonia_a < colonia_b:\n",
        "  colonia_a *= 1.03\n",
        "  colonia_b *= 1.015\n",
        "  dias += 1\n",
        "\n",
        "print(f'Tomará {dias} días para que la colonia de la bacteria A supere o iguale a la colonia de la bacteria B')\n"
      ],
      "metadata": {
        "colab": {
          "base_uri": "https://localhost:8080/"
        },
        "id": "LAuMp5bR3enk",
        "outputId": "2db5dc98-8140-4e5a-ec2b-5b56ca579f13"
      },
      "execution_count": null,
      "outputs": [
        {
          "output_type": "stream",
          "name": "stdout",
          "text": [
            "Tomará 63 días para que la colonia de la bacteria A supere o iguale a la colonia de la bacteria B\n"
          ]
        }
      ]
    },
    {
      "cell_type": "markdown",
      "source": [
        "3 - Para procesar una cantidad de 15 datos de evaluaciones de usuarios de un servicio de la empresa, necesitamos verificar si las calificaciones son válidas. Por lo tanto, escribe un programa que recibirá calificaciones del 0 al 5 y verificará si son valores válidos. Si se ingresa una calificación superior a 5 o inferior a 0, se repetirá hasta que el usuario ingrese un valor válido."
      ],
      "metadata": {
        "id": "AzjB6RXG1aIF"
      }
    },
    {
      "cell_type": "code",
      "source": [
        "for u in range(1,16):\n",
        "  nota = float(input(f'Ingresa la nota del usuario {u}: '))\n",
        "  while nota < 0 or nota > 5 :\n",
        "    nota = float(input(f'Nota no válida, ingresa nuevamente la nota del usuario {u}: '))\n",
        "\n",
        "print('Verificación completa!!')"
      ],
      "metadata": {
        "colab": {
          "base_uri": "https://localhost:8080/"
        },
        "id": "JDgHOUui5sCT",
        "outputId": "011bc172-e8cd-433e-c437-c0d8f7ef255a"
      },
      "execution_count": null,
      "outputs": [
        {
          "output_type": "stream",
          "name": "stdout",
          "text": [
            "Ingresa la nota del usuario 1: 10\n",
            "Nota no válida, ingresa nuevamente la nota del usuario 1: 5\n",
            "Ingresa la nota del usuario 2: 4\n",
            "Ingresa la nota del usuario 3: 4\n",
            "Ingresa la nota del usuario 4: 7\n",
            "Nota no válida, ingresa nuevamente la nota del usuario 4: 8\n",
            "Nota no válida, ingresa nuevamente la nota del usuario 4: 4\n",
            "Ingresa la nota del usuario 5: 2\n",
            "Ingresa la nota del usuario 6: 3\n",
            "Ingresa la nota del usuario 7: 4\n",
            "Ingresa la nota del usuario 8: 1\n",
            "Ingresa la nota del usuario 9: 2\n",
            "Ingresa la nota del usuario 10: 3\n",
            "Ingresa la nota del usuario 11: 4\n",
            "Ingresa la nota del usuario 12: 5\n",
            "Ingresa la nota del usuario 13: 2\n",
            "Ingresa la nota del usuario 14: 4\n",
            "Ingresa la nota del usuario 15: 5\n",
            "Verificación completa!!\n"
          ]
        }
      ]
    },
    {
      "cell_type": "markdown",
      "source": [
        "4 - Desarrolla un programa que lea un conjunto indefinido de temperaturas en grados Celsius y calcule su promedio. La lectura debe detenerse al ingresar el valor -273°C."
      ],
      "metadata": {
        "id": "KEQxhGkn1b56"
      }
    },
    {
      "cell_type": "code",
      "source": [
        "suma = 0\n",
        "contador = 0\n",
        "\n",
        "while True:\n",
        "  temperatura = float(input('Ingresa temperatura en Celsius (-273 para terminar) '))\n",
        "  if temperatura == -273:\n",
        "    break\n",
        "  suma += temperatura\n",
        "  contador += 1\n",
        "\n",
        "print(f'El promedio de las temperaturas fue: {suma/contador}')"
      ],
      "metadata": {
        "colab": {
          "base_uri": "https://localhost:8080/"
        },
        "id": "lxpeXRCn65Ny",
        "outputId": "76eee87c-b28d-4171-d795-098e854a0038"
      },
      "execution_count": null,
      "outputs": [
        {
          "output_type": "stream",
          "name": "stdout",
          "text": [
            "Ingresa temperatura en Celsius (-273 para terminar) 30\n",
            "Ingresa temperatura en Celsius (-273 para terminar) 25\n",
            "Ingresa temperatura en Celsius (-273 para terminar) 22\n",
            "Ingresa temperatura en Celsius (-273 para terminar) 19\n",
            "Ingresa temperatura en Celsius (-273 para terminar) 17\n",
            "Ingresa temperatura en Celsius (-273 para terminar) 28\n",
            "Ingresa temperatura en Celsius (-273 para terminar) 22\n",
            "Ingresa temperatura en Celsius (-273 para terminar) 24\n",
            "Ingresa temperatura en Celsius (-273 para terminar) 19\n",
            "Ingresa temperatura en Celsius (-273 para terminar) 24\n",
            "Ingresa temperatura en Celsius (-273 para terminar) 16\n",
            "Ingresa temperatura en Celsius (-273 para terminar) 19\n",
            "Ingresa temperatura en Celsius (-273 para terminar) 19\n",
            "Ingresa temperatura en Celsius (-273 para terminar) 18\n",
            "Ingresa temperatura en Celsius (-273 para terminar) 17\n",
            "Ingresa temperatura en Celsius (-273 para terminar) 16\n",
            "Ingresa temperatura en Celsius (-273 para terminar) 22\n",
            "Ingresa temperatura en Celsius (-273 para terminar) 20\n",
            "Ingresa temperatura en Celsius (-273 para terminar) 21\n",
            "Ingresa temperatura en Celsius (-273 para terminar) 22\n",
            "Ingresa temperatura en Celsius (-273 para terminar) -273\n",
            "El promedio de las temperaturas fue: 21.0\n"
          ]
        }
      ]
    },
    {
      "cell_type": "markdown",
      "source": [
        "5 - Escribe un programa que calcule el factorial de un número entero proporcionado por el usuario. Recuerda que el factorial de un número entero es el producto de ese número por todos sus antecesores hasta llegar al número 1. Por ejemplo, el factorial de 5 es 5 x 4 x 3 x 2 x 1 = 120."
      ],
      "metadata": {
        "id": "Efc07ELT1dsh"
      }
    },
    {
      "cell_type": "code",
      "source": [
        "factorial = int(input('Ingresa numero entero: '))\n",
        "\n",
        "for n in range(factorial-1, 0, -1):\n",
        "  factorial *= n\n",
        "\n",
        "print(factorial)"
      ],
      "metadata": {
        "colab": {
          "base_uri": "https://localhost:8080/"
        },
        "id": "J8-_ofiB9iIC",
        "outputId": "f0301349-d850-4686-9507-f0a2b0b3983b"
      },
      "execution_count": null,
      "outputs": [
        {
          "output_type": "stream",
          "name": "stdout",
          "text": [
            "Ingresa numero entero: 5\n",
            "120\n"
          ]
        }
      ]
    },
    {
      "cell_type": "markdown",
      "source": [
        "6 - Escribe un programa que genere la tabla de multiplicar de un número entero del 1 al 10, según la elección del usuario. Como ejemplo, para el número 2, la tabla de multiplicar debe mostrarse en el siguiente formato:\n",
        "\n",
        "Tabla de multiplicar del 2:\n",
        "2 x 1 = 2\n",
        "2 x 2 = 4\n",
        "[...]\n",
        "2 x 10 = 20"
      ],
      "metadata": {
        "id": "DBDDXW9s1fjS"
      }
    },
    {
      "cell_type": "code",
      "source": [
        "tabla = int(input('Ingresa la tabla (1 a 10) que deseas generar: '))\n",
        "\n",
        "print(f'\\nTabla de multiplicar del {tabla}:')\n",
        "\n",
        "for n in range(1,11):\n",
        "  print(f'{tabla} x {n} = {tabla*n}')\n"
      ],
      "metadata": {
        "colab": {
          "base_uri": "https://localhost:8080/"
        },
        "id": "PaQxQbva_rKV",
        "outputId": "fccf3cca-89c4-4580-a5ac-c9124401de6c"
      },
      "execution_count": null,
      "outputs": [
        {
          "output_type": "stream",
          "name": "stdout",
          "text": [
            "Ingresa la tabla (1 a 10) que deseas generar: 8\n",
            "\n",
            "Tabla de multiplicar del 8:\n",
            "8 x 1 = 8\n",
            "8 x 2 = 16\n",
            "8 x 3 = 24\n",
            "8 x 4 = 32\n",
            "8 x 5 = 40\n",
            "8 x 6 = 48\n",
            "8 x 7 = 56\n",
            "8 x 8 = 64\n",
            "8 x 9 = 72\n",
            "8 x 10 = 80\n"
          ]
        }
      ]
    },
    {
      "cell_type": "markdown",
      "source": [
        "7 - Los números primos tienen diversas aplicaciones en Ciencia de Datos, como en criptografía y seguridad. Un número primo es aquel que es divisible solo por sí mismo y por 1. Por lo tanto, crea un programa que solicite un número entero y determine si es un número primo o no."
      ],
      "metadata": {
        "id": "td2f4RBC1wab"
      }
    },
    {
      "cell_type": "code",
      "source": [
        "numero = int(input('Ingresa numero entero: '))\n",
        "es_primo = False\n",
        "\n",
        "if numero <= 1: # Los números menores o iguales a 1 no son primos\n",
        "  es_primo = False\n",
        "elif numero == 2: # El 2 es el único número primo par\n",
        "  es_primo = True\n",
        "elif numero % 2 == 0: # Cualquier otro número par no es primo\n",
        "  es_primo = False\n",
        "else:\n",
        "  es_primo = True\n",
        "  i = 3\n",
        "  while i * i <= numero:\n",
        "    if numero % i == 0: # Si es divisible entre i, no es primo\n",
        "      es_primo = False\n",
        "    i+=2\n",
        "\n",
        "if es_primo:\n",
        "  print(f'El número: {numero}. ES un número primo.')\n",
        "else:\n",
        "  print(f'El número: {numero}. NO es un número primo.')"
      ],
      "metadata": {
        "id": "-I6WZRY6ArIU",
        "colab": {
          "base_uri": "https://localhost:8080/"
        },
        "outputId": "04a20f21-bee7-4683-f958-cd520e4c75e7"
      },
      "execution_count": 16,
      "outputs": [
        {
          "output_type": "stream",
          "name": "stdout",
          "text": [
            "Ingresa numero entero: 19\n",
            "El número: 19. ES un número primo.\n"
          ]
        }
      ]
    },
    {
      "cell_type": "markdown",
      "source": [
        "8 - Vamos a comprender la distribución de edades de los pensionistas de una empresa de seguros. Escribe un programa que lea las edades de una cantidad no informada de clientes y muestre la distribución en los intervalos [0-25], [26-50], [51-75] y [76-100]. La entrada de datos se detendrá al ingresar un número negativo."
      ],
      "metadata": {
        "id": "wY2nCME81xiw"
      }
    },
    {
      "cell_type": "code",
      "source": [
        "edad = 0\n",
        "edades = []\n",
        "intervalos = {\n",
        "    '0-25': [],\n",
        "    '26-50': [],\n",
        "    '51-75': [],\n",
        "    '76-100': []\n",
        "}\n",
        "while edad >= 0:\n",
        "  edad = int(input('Ingresa edad: '))\n",
        "  edades.append(edad)\n",
        "\n",
        "for num in sorted(edades):\n",
        "  if 0 <= num <= 25:\n",
        "    intervalos['0-25'].append(num)\n",
        "  elif 26 <= num <= 50:\n",
        "    intervalos['26-50'].append(num)\n",
        "  elif 51 <= num <= 75:\n",
        "    intervalos['51-75'].append(num)\n",
        "  elif 76 <= num <= 100:\n",
        "    intervalos['76-100'].append(num)\n",
        "\n",
        "print(\"\\n--- Segmentación por rangos fijos ---\")\n",
        "for rango, lista_nums in intervalos.items():\n",
        "    print(f\"Intervalo {rango}: {lista_nums}\")"
      ],
      "metadata": {
        "colab": {
          "base_uri": "https://localhost:8080/"
        },
        "id": "Ii6adcVBfi3T",
        "outputId": "852cc17d-8e55-4f4c-a924-dfb77ffe0f3b"
      },
      "execution_count": 20,
      "outputs": [
        {
          "output_type": "stream",
          "name": "stdout",
          "text": [
            "Ingresa edad: 10\n",
            "Ingresa edad: 20\n",
            "Ingresa edad: 50\n",
            "Ingresa edad: 8\n",
            "Ingresa edad: 48\n",
            "Ingresa edad: 18\n",
            "Ingresa edad: 22\n",
            "Ingresa edad: 32\n",
            "Ingresa edad: -1\n",
            "\n",
            "--- Segmentación por rangos fijos ---\n",
            "Intervalo 0-25: [8, 10, 18, 20, 22]\n",
            "Intervalo 26-50: [32, 48, 50]\n",
            "Intervalo 51-75: []\n",
            "Intervalo 76-100: []\n"
          ]
        }
      ]
    },
    {
      "cell_type": "markdown",
      "source": [
        "9 - En una elección para la gerencia de una empresa con 20 empleados, hay cuatro candidatos. Escribe un programa que calcule al ganador de la elección. La votación se realizó de la siguiente manera:\n",
        "\n",
        "* Cada empleado votó por uno de los cuatro candidatos (representados por los números 1, 2, 3 y 4).\n",
        "\n",
        "* También se contaron los votos nulos (representados por el número 5) y los votos en blanco (representados por el número 6).\n",
        "\n",
        "* Al final de la votación, el programa debe mostrar el número total de votos para cada candidato, los votos nulos y los votos en blanco. Además, debe calcular y mostrar el porcentaje de votos nulos con respecto al total de votos y el porcentaje de votos en blanco con respecto al total de votos."
      ],
      "metadata": {
        "id": "OBw2Td681zGO"
      }
    },
    {
      "cell_type": "code",
      "source": [
        "total_votos = 20\n",
        "votos_1 = 0\n",
        "votos_2 = 0\n",
        "votos_3 = 0\n",
        "votos_4 = 0\n",
        "votos_nulos = 0\n",
        "votos_blancos = 0\n",
        "\n",
        "for i in range(0, total_votos):\n",
        "  voto = int(input('Ingresa tu voto (numeros validos 1-6): '))\n",
        "\n",
        "  while voto <= 0 or voto > 6:\n",
        "    voto = int(input('voto invalido ingresa nuevamente: '))\n",
        "\n",
        "  if voto == 1:\n",
        "    votos_1 += 1\n",
        "  elif voto == 2:\n",
        "    votos_2 += 1\n",
        "  elif voto == 3:\n",
        "    votos_3 += 1\n",
        "  elif voto == 4:\n",
        "    votos_4 += 1\n",
        "  elif voto == 5:\n",
        "    votos_nulos += 1\n",
        "  elif voto == 6:\n",
        "    votos_blancos += 1\n",
        "\n",
        "print(f'Votos candidato 1: {votos_1}')\n",
        "print(f'Votos candidato 2: {votos_2}')\n",
        "print(f'Votos candidato 3: {votos_3}')\n",
        "print(f'Votos candidato 4: {votos_4}')\n",
        "print(f'Votos nulos: {votos_nulos}')\n",
        "print(f'Votos en blanco: {votos_blancos}')\n",
        "print(f'Porcentaje de votos nulos: {(votos_nulos / total_votos * 100)}')\n",
        "print(f'Porcentaje de votos en blanco: {(votos_blancos / total_votos * 100)}')"
      ],
      "metadata": {
        "colab": {
          "base_uri": "https://localhost:8080/"
        },
        "id": "n8KAGhdlvB4u",
        "outputId": "4a8da8a5-9efd-4456-90d9-e9292b0f90b7"
      },
      "execution_count": 26,
      "outputs": [
        {
          "output_type": "stream",
          "name": "stdout",
          "text": [
            "Ingresa tu voto (numeros validos 1-6): 0\n",
            "voto invalido ingresa nuevamente: 0\n",
            "voto invalido ingresa nuevamente: 1\n",
            "Ingresa tu voto (numeros validos 1-6): 2\n",
            "Ingresa tu voto (numeros validos 1-6): 3\n",
            "Ingresa tu voto (numeros validos 1-6): 4\n",
            "Ingresa tu voto (numeros validos 1-6): 5\n",
            "Ingresa tu voto (numeros validos 1-6): 6\n",
            "Ingresa tu voto (numeros validos 1-6): 7\n",
            "voto invalido ingresa nuevamente: 6\n",
            "Ingresa tu voto (numeros validos 1-6): 5\n",
            "Ingresa tu voto (numeros validos 1-6): 4\n",
            "Ingresa tu voto (numeros validos 1-6): 3\n",
            "Ingresa tu voto (numeros validos 1-6): 2\n",
            "Ingresa tu voto (numeros validos 1-6): 1\n",
            "Ingresa tu voto (numeros validos 1-6): 0\n",
            "voto invalido ingresa nuevamente: 1\n",
            "Ingresa tu voto (numeros validos 1-6): 2\n",
            "Ingresa tu voto (numeros validos 1-6): 3\n",
            "Ingresa tu voto (numeros validos 1-6): 4\n",
            "Ingresa tu voto (numeros validos 1-6): 5\n",
            "Ingresa tu voto (numeros validos 1-6): 6\n",
            "Ingresa tu voto (numeros validos 1-6): 7\n",
            "voto invalido ingresa nuevamente: 6\n",
            "Ingresa tu voto (numeros validos 1-6): 5\n",
            "Votos candidato 1: 3\n",
            "Votos candidato 2: 3\n",
            "Votos candidato 3: 3\n",
            "Votos candidato 4: 3\n",
            "Votos nulos: 4\n",
            "Votos en blanco: 4\n",
            "Porcentaje de votos nulos: 20.0\n",
            "Porcentaje de votos en blanco: 20.0\n"
          ]
        }
      ]
    },
    {
      "cell_type": "markdown",
      "source": [
        "**Un** conjunto de elementos es una colección de items, que son almacenados juntos de manera organizada. Algunos ejemplos de conjuntos de elementos en Python son las listas, los strings y los diccionarios."
      ],
      "metadata": {
        "id": "xpEUkefTu8fY"
      }
    },
    {
      "cell_type": "markdown",
      "source": [
        "## Listas"
      ],
      "metadata": {
        "id": "THSg4KYLwxIb"
      }
    },
    {
      "cell_type": "markdown",
      "source": [
        "Las listas pueden almacenar una colección de items en orden. Ellas son delimitadas por corchetes `[]` y sus elementos son separados por comas.\n",
        "\n",
        "Estas pueden almacenar cualquier tipo de items, incluyendo números, strings, objetos, otras listas, entre otros. También nos permiten almacenar items de tipos de datos diferentes juntos en una única lista."
      ],
      "metadata": {
        "id": "dzpsiqrOyJcK"
      }
    },
    {
      "cell_type": "code",
      "source": [
        "lista = ['Penélope Camacho',9.5,9.0,9.7,True]\n",
        "lista"
      ],
      "metadata": {
        "id": "DO3TBj7nAYeG",
        "colab": {
          "base_uri": "https://localhost:8080/"
        },
        "outputId": "ebb23120-3bca-4b73-e73f-459c53c2a5d1"
      },
      "execution_count": 29,
      "outputs": [
        {
          "output_type": "execute_result",
          "data": {
            "text/plain": [
              "['Penélope Camacho', 9.5, 9.0, 9.7, True]"
            ]
          },
          "metadata": {},
          "execution_count": 29
        }
      ]
    },
    {
      "cell_type": "code",
      "source": [
        "type(lista)"
      ],
      "metadata": {
        "id": "DO2ubP9N9D_2",
        "colab": {
          "base_uri": "https://localhost:8080/"
        },
        "outputId": "e7fae204-2c37-4011-e72b-a48337fff008"
      },
      "execution_count": 30,
      "outputs": [
        {
          "output_type": "execute_result",
          "data": {
            "text/plain": [
              "list"
            ]
          },
          "metadata": {},
          "execution_count": 30
        }
      ]
    },
    {
      "cell_type": "markdown",
      "source": [
        "Las listas son organizadas en Python porque **cada elemento de la lista tiene un índice que indica su posición al interior de la lista**. Los índices comienzan en 0 van hasta el tamaño de la lista menos 1."
      ],
      "metadata": {
        "id": "qUz3sJNl6LgK"
      }
    },
    {
      "cell_type": "markdown",
      "source": [
        "Tenemos entonces 5 elementos con índices que varían de 0 a 4, ordenadamente:\n",
        "\n",
        "```\n",
        "#             [0]           [1]   [2]   [3]    [4]\n",
        "lista = ['Penélope Camacho', 9.5 , 9.0 , 9.7 , True]\n",
        "```\n",
        "\n",
        "En Python tenemos también los índices **negativos** que se inician en el último elemento con el valor de `-1` y avanzan en el universo de los negativos hasta llegar al 1° elemento:\n",
        "\n",
        "```\n",
        "#             [-5]         [-4]  [-3]  [-2]   [-1]\n",
        "lista = ['Penélope Camacho', 9.5 , 9.0 , 9.7 , True]\n",
        "```\n",
        "\n",
        "Logramos seleccionar separadamente cada elemento a través de sus respectivos índices. Colocando el nombre de la lista y en seguida el índice que será seleccionado."
      ],
      "metadata": {
        "id": "rLf-Qg526hFD"
      }
    },
    {
      "cell_type": "code",
      "source": [
        "lista[0]"
      ],
      "metadata": {
        "id": "4hco1Zqy88Kw",
        "colab": {
          "base_uri": "https://localhost:8080/",
          "height": 35
        },
        "outputId": "e9882a27-2ffd-4d95-d46b-4d06a9715cdf"
      },
      "execution_count": 31,
      "outputs": [
        {
          "output_type": "execute_result",
          "data": {
            "text/plain": [
              "'Penélope Camacho'"
            ],
            "application/vnd.google.colaboratory.intrinsic+json": {
              "type": "string"
            }
          },
          "metadata": {},
          "execution_count": 31
        }
      ]
    },
    {
      "cell_type": "code",
      "source": [
        "type(lista[0])"
      ],
      "metadata": {
        "id": "M8lH0I2288Ph",
        "colab": {
          "base_uri": "https://localhost:8080/"
        },
        "outputId": "848dd71d-ad40-4cec-9431-941b6b19b76c"
      },
      "execution_count": 32,
      "outputs": [
        {
          "output_type": "execute_result",
          "data": {
            "text/plain": [
              "str"
            ]
          },
          "metadata": {},
          "execution_count": 32
        }
      ]
    },
    {
      "cell_type": "markdown",
      "source": [
        "Una forma más dinámica de trabajar item a item en una lista es utilizando un lazo `for` para leer un elemento a la vez."
      ],
      "metadata": {
        "id": "6TaE1ijmBTCd"
      }
    },
    {
      "cell_type": "code",
      "source": [
        "for elmento in lista:\n",
        "  print(elmento)"
      ],
      "metadata": {
        "id": "rBx4Yu1786Sy",
        "colab": {
          "base_uri": "https://localhost:8080/"
        },
        "outputId": "89b7fa0c-48dd-4db6-aed9-75cc8d08cb5b"
      },
      "execution_count": 33,
      "outputs": [
        {
          "output_type": "stream",
          "name": "stdout",
          "text": [
            "Penélope Camacho\n",
            "9.5\n",
            "9.0\n",
            "9.7\n",
            "True\n"
          ]
        }
      ]
    },
    {
      "cell_type": "markdown",
      "source": [
        "**Situación**: La nota `9.0` de Penélope necesita ser ajustada pues ganó 1 punto en su última nota por participación en clase. Entonces es necesario realizar un cambio en el índice `2` de `9.0` a `10.0`."
      ],
      "metadata": {
        "id": "Dh1_HnIVvucY"
      }
    },
    {
      "cell_type": "code",
      "source": [
        "lista[2] = 10.0"
      ],
      "metadata": {
        "id": "bVPoZg668z3T"
      },
      "execution_count": 34,
      "outputs": []
    },
    {
      "cell_type": "code",
      "source": [
        "lista"
      ],
      "metadata": {
        "id": "Jo_PBQ0g8z7D",
        "colab": {
          "base_uri": "https://localhost:8080/"
        },
        "outputId": "a502f44e-a5e0-4add-e5e3-9d60e15958c4"
      },
      "execution_count": 35,
      "outputs": [
        {
          "output_type": "execute_result",
          "data": {
            "text/plain": [
              "['Penélope Camacho', 9.5, 10.0, 9.7, True]"
            ]
          },
          "metadata": {},
          "execution_count": 35
        }
      ]
    },
    {
      "cell_type": "markdown",
      "source": [
        "También podemos calcular el promedio del estudiante a partir de los datos que tenemos."
      ],
      "metadata": {
        "id": "53XduzXkycAf"
      }
    },
    {
      "cell_type": "code",
      "source": [
        "promedio = (lista[1]+lista[2]+lista[3])/3\n",
        "promedio"
      ],
      "metadata": {
        "id": "SIH61Rrb8yv4",
        "colab": {
          "base_uri": "https://localhost:8080/"
        },
        "outputId": "a8a09910-80d0-4f2a-958b-a1596bffedcd"
      },
      "execution_count": 36,
      "outputs": [
        {
          "output_type": "execute_result",
          "data": {
            "text/plain": [
              "9.733333333333333"
            ]
          },
          "metadata": {},
          "execution_count": 36
        }
      ]
    },
    {
      "cell_type": "markdown",
      "source": [
        "## Manipulación de listas\n",
        "\n",
        "Las listas son muy útiles en Python porque nos permiten almacenar y acceder a una colección de items de manera organizada y rápida. Estas también ofrecen muchos métodos útiles para manipular los itens almacenados, como adicionar, remover, clasificar y buscar elementos."
      ],
      "metadata": {
        "id": "d-iYr10-y4qw"
      }
    },
    {
      "cell_type": "markdown",
      "source": [
        "#### Cantidad de elementos\n",
        "\n",
        "Usamos la función [`len()`](https://docs.python.org/3/library/functions.html#len) para descubrir la cantidad de elementos de un conjunto."
      ],
      "metadata": {
        "id": "ZLqx9A97XVB_"
      }
    },
    {
      "cell_type": "code",
      "source": [
        "len(lista)"
      ],
      "metadata": {
        "id": "6q1Tmm7P8wQf",
        "colab": {
          "base_uri": "https://localhost:8080/"
        },
        "outputId": "2d2e99f4-7b1a-43ec-887f-f47458ea3c39"
      },
      "execution_count": 37,
      "outputs": [
        {
          "output_type": "execute_result",
          "data": {
            "text/plain": [
              "5"
            ]
          },
          "metadata": {},
          "execution_count": 37
        }
      ]
    },
    {
      "cell_type": "markdown",
      "source": [
        "#### Partición\n",
        "\n",
        "La partición de listas por indexación en Python es una técnica muy útil para seleccionar un subconjunto de elementos de una lista. Esta se realiza usando la sintaxis `lista[inicio:fin]`, donde `inicio` es el índice del primer elemento que será incluído en la partición `fin` es el índice del primer elemento que será excluído de la partición."
      ],
      "metadata": {
        "id": "Z5tpstlHJss3"
      }
    },
    {
      "cell_type": "code",
      "source": [
        "lista[0:2]"
      ],
      "metadata": {
        "id": "NctvJTTU8uV9",
        "colab": {
          "base_uri": "https://localhost:8080/"
        },
        "outputId": "41760b48-e682-4166-8fc4-33112274ab7f"
      },
      "execution_count": 38,
      "outputs": [
        {
          "output_type": "execute_result",
          "data": {
            "text/plain": [
              "['Penélope Camacho', 9.5]"
            ]
          },
          "metadata": {},
          "execution_count": 38
        }
      ]
    },
    {
      "cell_type": "code",
      "source": [
        "lista[:3]"
      ],
      "metadata": {
        "id": "bQZUwldj8uY2",
        "colab": {
          "base_uri": "https://localhost:8080/"
        },
        "outputId": "522b3d49-7d22-4e5a-8bc6-b4dda91425c3"
      },
      "execution_count": 41,
      "outputs": [
        {
          "output_type": "execute_result",
          "data": {
            "text/plain": [
              "['Penélope Camacho', 9.5, 10.0]"
            ]
          },
          "metadata": {},
          "execution_count": 41
        }
      ]
    },
    {
      "cell_type": "code",
      "source": [
        "lista[3:]"
      ],
      "metadata": {
        "colab": {
          "base_uri": "https://localhost:8080/"
        },
        "id": "hAjoR29l2tFd",
        "outputId": "ebb51e38-b0bc-4164-d8b2-3cf1e5c906f3"
      },
      "execution_count": 44,
      "outputs": [
        {
          "output_type": "execute_result",
          "data": {
            "text/plain": [
              "[9.7, True]"
            ]
          },
          "metadata": {},
          "execution_count": 44
        }
      ]
    },
    {
      "cell_type": "code",
      "source": [
        "lista[:]"
      ],
      "metadata": {
        "colab": {
          "base_uri": "https://localhost:8080/"
        },
        "id": "-5mdDJW72yrs",
        "outputId": "8e8207be-7530-4f54-deea-cf1057788e90"
      },
      "execution_count": 45,
      "outputs": [
        {
          "output_type": "execute_result",
          "data": {
            "text/plain": [
              "['Penélope Camacho', 9.5, 10.0, 9.7, True]"
            ]
          },
          "metadata": {},
          "execution_count": 45
        }
      ]
    },
    {
      "cell_type": "markdown",
      "source": [
        "#### [`append()`](https://docs.python.org/3/tutorial/datastructures.html#:~:text=of%20list%20objects%3A-,list.append(x),-Add%20an%20item)\n",
        "\n",
        "Añade un elemento al final de la lista."
      ],
      "metadata": {
        "id": "O0RRyabkRzZC"
      }
    },
    {
      "cell_type": "code",
      "source": [
        "lista.append(promedio)"
      ],
      "metadata": {
        "id": "_Q0oODwa8spC"
      },
      "execution_count": 46,
      "outputs": []
    },
    {
      "cell_type": "code",
      "source": [
        "lista"
      ],
      "metadata": {
        "id": "RM894r2M8sse",
        "colab": {
          "base_uri": "https://localhost:8080/"
        },
        "outputId": "9ca55fc5-c4b5-4421-aa3f-6634a78d9429"
      },
      "execution_count": 47,
      "outputs": [
        {
          "output_type": "execute_result",
          "data": {
            "text/plain": [
              "['Penélope Camacho', 9.5, 10.0, 9.7, True, 9.733333333333333]"
            ]
          },
          "metadata": {},
          "execution_count": 47
        }
      ]
    },
    {
      "cell_type": "markdown",
      "source": [
        "#### [`extend()`](https://docs.python.org/3/tutorial/datastructures.html#:~:text=list.extend(iterable))\n",
        "\n",
        "Añade varios elementos al final de la lista.\n",
        "\n",
        "Añadiremos las notas `[10.0,8.0,9.0]` En la lista de Penélope Camacho."
      ],
      "metadata": {
        "id": "uQV91XMsUOJD"
      }
    },
    {
      "cell_type": "code",
      "source": [
        "lista.extend([10.0,8.0,9.0])"
      ],
      "metadata": {
        "id": "6Zk2MpMw8rQc"
      },
      "execution_count": 48,
      "outputs": []
    },
    {
      "cell_type": "code",
      "source": [
        "lista"
      ],
      "metadata": {
        "id": "NnoKkoWb8rTQ",
        "colab": {
          "base_uri": "https://localhost:8080/"
        },
        "outputId": "9979aa09-b397-4aea-e7aa-4a57f471d3f7"
      },
      "execution_count": 49,
      "outputs": [
        {
          "output_type": "execute_result",
          "data": {
            "text/plain": [
              "['Penélope Camacho', 9.5, 10.0, 9.7, True, 9.733333333333333, 10.0, 8.0, 9.0]"
            ]
          },
          "metadata": {},
          "execution_count": 49
        }
      ]
    },
    {
      "cell_type": "markdown",
      "source": [
        "*A continuación te mostraremos lo que no puede realizarse con* `append`."
      ],
      "metadata": {
        "id": "IVJvkTwNUk6M"
      }
    },
    {
      "cell_type": "code",
      "source": [
        "lista.append([10.0,8.0,9.0])"
      ],
      "metadata": {
        "id": "u3Eub2ZL8pp3"
      },
      "execution_count": 50,
      "outputs": []
    },
    {
      "cell_type": "code",
      "source": [
        "lista"
      ],
      "metadata": {
        "id": "tsKK5Ne58pvN",
        "colab": {
          "base_uri": "https://localhost:8080/"
        },
        "outputId": "f2ed9d25-7308-4b04-8abb-4436e3b60e69"
      },
      "execution_count": 51,
      "outputs": [
        {
          "output_type": "execute_result",
          "data": {
            "text/plain": [
              "['Penélope Camacho',\n",
              " 9.5,\n",
              " 10.0,\n",
              " 9.7,\n",
              " True,\n",
              " 9.733333333333333,\n",
              " 10.0,\n",
              " 8.0,\n",
              " 9.0,\n",
              " [10.0, 8.0, 9.0]]"
            ]
          },
          "metadata": {},
          "execution_count": 51
        }
      ]
    },
    {
      "cell_type": "markdown",
      "source": [
        "#### [`remove()`](https://docs.python.org/3/tutorial/datastructures.html#:~:text=append(x).-,list.remove(x),-Remove%20the%20first)\n",
        "\n",
        "Remueve un elemento específico de la lista."
      ],
      "metadata": {
        "id": "dPGM5gpyUX1z"
      }
    },
    {
      "cell_type": "code",
      "source": [
        "lista.remove([10.0,8.0,9.0])"
      ],
      "metadata": {
        "id": "mmboODPc8nd5"
      },
      "execution_count": 52,
      "outputs": []
    },
    {
      "cell_type": "code",
      "source": [
        "lista"
      ],
      "metadata": {
        "id": "T_w6vVgV8nh_",
        "colab": {
          "base_uri": "https://localhost:8080/"
        },
        "outputId": "cc566550-76f9-4ab4-a4a7-955aa8560117"
      },
      "execution_count": 53,
      "outputs": [
        {
          "output_type": "execute_result",
          "data": {
            "text/plain": [
              "['Penélope Camacho', 9.5, 10.0, 9.7, True, 9.733333333333333, 10.0, 8.0, 9.0]"
            ]
          },
          "metadata": {},
          "execution_count": 53
        }
      ]
    },
    {
      "cell_type": "markdown",
      "source": [
        "## Diccionario"
      ],
      "metadata": {
        "id": "Rc22Vc08YDZ2"
      }
    },
    {
      "cell_type": "markdown",
      "source": [
        "Los diccionarios son un tipo de estructura de datos que almacenan pares de *llave-valor*. Estos son delimitados por llaves `{}` y los pares *llave-valor* son separados por comas.\n",
        "\n",
        "```\n",
        "diccionario = {llave: valor}\n",
        "```\n",
        "\n",
        "La **llave** es un elemento único que identifica a un valor en el diccionario, mientras que el **valor** es el item que será almacenado para la llave. Las llaves y sus respectivos valores se pueden emplear para **cualquier tipo de dato**.\n",
        "\n",
        "Los diccionarios son útiles para almacenar y acceder a los datos de manera organizada y rápida. Se trata de un tipo de conjunto de elementos en Python, pues almacenan una colección de items."
      ],
      "metadata": {
        "id": "PJ-cCKPjeWxL"
      }
    },
    {
      "cell_type": "code",
      "source": [
        "diccionario = {'llave_1':1,\n",
        "              'llave_2':2}"
      ],
      "metadata": {
        "id": "NDHhzooE8ld5"
      },
      "execution_count": 55,
      "outputs": []
    },
    {
      "cell_type": "code",
      "source": [
        "type(diccionario)"
      ],
      "metadata": {
        "id": "AVOzqzy-8lhh",
        "colab": {
          "base_uri": "https://localhost:8080/"
        },
        "outputId": "8ee39bd7-e6a0-462c-f6bd-f816ef694f09"
      },
      "execution_count": 56,
      "outputs": [
        {
          "output_type": "execute_result",
          "data": {
            "text/plain": [
              "dict"
            ]
          },
          "metadata": {},
          "execution_count": 56
        }
      ]
    },
    {
      "cell_type": "markdown",
      "source": [
        "---\n",
        "**Situación:**\n",
        "\n",
        "Vamos a crear un conjunto de datos con las informaciones de matrícula de un estudiante. Los datos son los siguientes:\n",
        "\n",
        "- matrícula: 2000168933\n",
        "- día de registro: 25\n",
        "- mes de registro: 10\n",
        "- grupo: 2E"
      ],
      "metadata": {
        "id": "_JbQ3KMKfkXU"
      }
    },
    {
      "cell_type": "code",
      "source": [
        "estudiante = {\n",
        "              'matrícula': 2000168933,\n",
        "              'día_registro': 25,\n",
        "              'mes_registro': 10,\n",
        "              'grupo': '2E'\n",
        "              }"
      ],
      "metadata": {
        "id": "0lfOu_c38jED"
      },
      "execution_count": 58,
      "outputs": []
    },
    {
      "cell_type": "code",
      "source": [
        "estudiante"
      ],
      "metadata": {
        "id": "XIuqpTTy8jHV",
        "colab": {
          "base_uri": "https://localhost:8080/"
        },
        "outputId": "c3126bdc-0693-4308-e3e1-13bc1bf693b0"
      },
      "execution_count": 60,
      "outputs": [
        {
          "output_type": "execute_result",
          "data": {
            "text/plain": [
              "{'matrícula': 2000168933,\n",
              " 'día_registro': 25,\n",
              " 'mes_registro': 10,\n",
              " 'grupo': '2E'}"
            ]
          },
          "metadata": {},
          "execution_count": 60
        }
      ]
    },
    {
      "cell_type": "code",
      "source": [
        "estudiante['matrícula']"
      ],
      "metadata": {
        "colab": {
          "base_uri": "https://localhost:8080/"
        },
        "id": "Qz2Jhhst4ky9",
        "outputId": "51ee3b0f-f726-40d1-b07c-f6765ef4a57d"
      },
      "execution_count": 62,
      "outputs": [
        {
          "output_type": "execute_result",
          "data": {
            "text/plain": [
              "2000168933"
            ]
          },
          "metadata": {},
          "execution_count": 62
        }
      ]
    },
    {
      "cell_type": "code",
      "source": [
        "estudiante['grupo']"
      ],
      "metadata": {
        "colab": {
          "base_uri": "https://localhost:8080/",
          "height": 35
        },
        "id": "88UTe3m44njU",
        "outputId": "920db385-c6b1-4378-ae4b-18674aced21d"
      },
      "execution_count": 63,
      "outputs": [
        {
          "output_type": "execute_result",
          "data": {
            "text/plain": [
              "'2E'"
            ],
            "application/vnd.google.colaboratory.intrinsic+json": {
              "type": "string"
            }
          },
          "metadata": {},
          "execution_count": 63
        }
      ]
    },
    {
      "cell_type": "markdown",
      "source": [
        "Es posible sustituir los valores dentro de una llave. Por ejemplo, recibimos la información de que el grupo del estudiante que registramos cambio a `'2G'` y ahora necesitamos cambiar el valor de la llave `'grupo'`."
      ],
      "metadata": {
        "id": "8ex5pt2ykDd2"
      }
    },
    {
      "cell_type": "code",
      "source": [
        "estudiante['grupo'] = '2G'"
      ],
      "metadata": {
        "id": "kQGlp36b8fyP"
      },
      "execution_count": 64,
      "outputs": []
    },
    {
      "cell_type": "code",
      "source": [
        "estudiante"
      ],
      "metadata": {
        "id": "DnfH_qHi8f17",
        "colab": {
          "base_uri": "https://localhost:8080/"
        },
        "outputId": "bade1928-496d-45ee-f2ce-d76876e6e1cb"
      },
      "execution_count": 65,
      "outputs": [
        {
          "output_type": "execute_result",
          "data": {
            "text/plain": [
              "{'matrícula': 2000168933,\n",
              " 'día_registro': 25,\n",
              " 'mes_registro': 10,\n",
              " 'grupo': '2G'}"
            ]
          },
          "metadata": {},
          "execution_count": 65
        }
      ]
    },
    {
      "cell_type": "markdown",
      "source": [
        "También podemos añadir otros datos al diccionario. Vamos a añadir la información sobre la modalidad de estudio, nuestro estudiante estudiará inicialemente en la modalidad EAD.\n",
        "\n",
        "Definiremos una llave llamada `'modalidad'` con el valor `'EAD'`."
      ],
      "metadata": {
        "id": "wB0qRb56mQvv"
      }
    },
    {
      "cell_type": "code",
      "source": [
        "estudiante['modalidad'] = 'EAD'"
      ],
      "metadata": {
        "id": "EeLYdlIm8d8a"
      },
      "execution_count": 66,
      "outputs": []
    },
    {
      "cell_type": "code",
      "source": [
        "estudiante"
      ],
      "metadata": {
        "id": "olDIavsm8d_o",
        "colab": {
          "base_uri": "https://localhost:8080/"
        },
        "outputId": "7954dcca-c56c-4ad0-efb2-53a7718092af"
      },
      "execution_count": 68,
      "outputs": [
        {
          "output_type": "execute_result",
          "data": {
            "text/plain": [
              "{'matrícula': 2000168933,\n",
              " 'día_registro': 25,\n",
              " 'mes_registro': 10,\n",
              " 'grupo': '2G',\n",
              " 'modalidad': 'EAD'}"
            ]
          },
          "metadata": {},
          "execution_count": 68
        }
      ]
    },
    {
      "cell_type": "code",
      "source": [
        "len(estudiante)"
      ],
      "metadata": {
        "colab": {
          "base_uri": "https://localhost:8080/"
        },
        "id": "gheXwzt64_Fm",
        "outputId": "fe2db8ad-24f3-469b-bad3-13aea8ca045c"
      },
      "execution_count": 69,
      "outputs": [
        {
          "output_type": "execute_result",
          "data": {
            "text/plain": [
              "5"
            ]
          },
          "metadata": {},
          "execution_count": 69
        }
      ]
    },
    {
      "cell_type": "markdown",
      "source": [
        "## Profundizando en diccionarios"
      ],
      "metadata": {
        "id": "LJ3o_inroxg_"
      }
    },
    {
      "cell_type": "markdown",
      "source": [
        "#### [`pop()`](https://python-reference.readthedocs.io/en/latest/docs/dict/pop.html)\n",
        "Remueve un item de un diccionario y lo representa en la salida."
      ],
      "metadata": {
        "id": "2N3GLlkSpBiu"
      }
    },
    {
      "cell_type": "code",
      "source": [
        "estudiante.pop('grupo')"
      ],
      "metadata": {
        "id": "ZsSCZx6G8b-T",
        "colab": {
          "base_uri": "https://localhost:8080/",
          "height": 35
        },
        "outputId": "f2a38b80-d108-4522-f2ea-f9b25b7eab5d"
      },
      "execution_count": 70,
      "outputs": [
        {
          "output_type": "execute_result",
          "data": {
            "text/plain": [
              "'2G'"
            ],
            "application/vnd.google.colaboratory.intrinsic+json": {
              "type": "string"
            }
          },
          "metadata": {},
          "execution_count": 70
        }
      ]
    },
    {
      "cell_type": "code",
      "source": [
        "estudiante"
      ],
      "metadata": {
        "id": "7lQ8_jpi8cBR",
        "colab": {
          "base_uri": "https://localhost:8080/"
        },
        "outputId": "e6e6204d-edd8-4a96-8fcf-31ab25d89124"
      },
      "execution_count": 71,
      "outputs": [
        {
          "output_type": "execute_result",
          "data": {
            "text/plain": [
              "{'matrícula': 2000168933,\n",
              " 'día_registro': 25,\n",
              " 'mes_registro': 10,\n",
              " 'modalidad': 'EAD'}"
            ]
          },
          "metadata": {},
          "execution_count": 71
        }
      ]
    },
    {
      "cell_type": "markdown",
      "source": [
        "#### [`items()`](https://python-reference.readthedocs.io/en/latest/docs/dict/items.html)\n",
        "Retorna una lista de pares `llave-valor` del diccionario."
      ],
      "metadata": {
        "id": "sYZGvJJYrW_y"
      }
    },
    {
      "cell_type": "code",
      "source": [
        "estudiante.items()"
      ],
      "metadata": {
        "id": "ncdycLV08an7",
        "colab": {
          "base_uri": "https://localhost:8080/"
        },
        "outputId": "9a106f29-ad17-4aca-865d-62d9eb488929"
      },
      "execution_count": 72,
      "outputs": [
        {
          "output_type": "execute_result",
          "data": {
            "text/plain": [
              "dict_items([('matrícula', 2000168933), ('día_registro', 25), ('mes_registro', 10), ('modalidad', 'EAD')])"
            ]
          },
          "metadata": {},
          "execution_count": 72
        }
      ]
    },
    {
      "cell_type": "markdown",
      "source": [
        "#### [`keys()`](https://python-reference.readthedocs.io/en/latest/docs/dict/keys.html)\n",
        "Retorna una lista de las llaves del diccionario."
      ],
      "metadata": {
        "id": "Lb0utNFGrZBY"
      }
    },
    {
      "cell_type": "code",
      "source": [
        "estudiante.keys()"
      ],
      "metadata": {
        "id": "eZo0biaM8ZVs",
        "colab": {
          "base_uri": "https://localhost:8080/"
        },
        "outputId": "a3074e65-ddfb-4655-9a1e-0026fa97de99"
      },
      "execution_count": 73,
      "outputs": [
        {
          "output_type": "execute_result",
          "data": {
            "text/plain": [
              "dict_keys(['matrícula', 'día_registro', 'mes_registro', 'modalidad'])"
            ]
          },
          "metadata": {},
          "execution_count": 73
        }
      ]
    },
    {
      "cell_type": "markdown",
      "source": [
        "#### [`values()`](https://python-reference.readthedocs.io/en/latest/docs/dict/values.html)\n",
        "Retorna una lista de los valores del diccionario."
      ],
      "metadata": {
        "id": "qKyu3bf9rbtX"
      }
    },
    {
      "cell_type": "code",
      "source": [
        "estudiante.values()"
      ],
      "metadata": {
        "id": "-NxRT9C18Yvo",
        "colab": {
          "base_uri": "https://localhost:8080/"
        },
        "outputId": "d39059b6-de3f-49eb-db04-6f3a0fae3d9d"
      },
      "execution_count": 74,
      "outputs": [
        {
          "output_type": "execute_result",
          "data": {
            "text/plain": [
              "dict_values([2000168933, 25, 10, 'EAD'])"
            ]
          },
          "metadata": {},
          "execution_count": 74
        }
      ]
    },
    {
      "cell_type": "markdown",
      "source": [
        "### Lectura de valores con el lazo `for`"
      ],
      "metadata": {
        "id": "e3XVjR8Frp75"
      }
    },
    {
      "cell_type": "code",
      "source": [
        "for llave in estudiante.keys():\n",
        "  print(llave)"
      ],
      "metadata": {
        "id": "NYcjU-Ip8Xan",
        "colab": {
          "base_uri": "https://localhost:8080/"
        },
        "outputId": "020577f5-354c-46dc-8ef7-ff29b1dea841"
      },
      "execution_count": 76,
      "outputs": [
        {
          "output_type": "stream",
          "name": "stdout",
          "text": [
            "matrícula\n",
            "día_registro\n",
            "mes_registro\n",
            "modalidad\n"
          ]
        }
      ]
    },
    {
      "cell_type": "code",
      "source": [
        "for llave, valor in estudiante.items():\n",
        "  print(llave, ' --> ', valor)"
      ],
      "metadata": {
        "id": "aAnpP1Wv8XfJ",
        "colab": {
          "base_uri": "https://localhost:8080/"
        },
        "outputId": "86606d00-d2f1-4b4f-a319-4ea5f62a9c4c"
      },
      "execution_count": 77,
      "outputs": [
        {
          "output_type": "stream",
          "name": "stdout",
          "text": [
            "matrícula  -->  2000168933\n",
            "día_registro  -->  25\n",
            "mes_registro  -->  10\n",
            "modalidad  -->  EAD\n"
          ]
        }
      ]
    },
    {
      "cell_type": "markdown",
      "source": [
        "# **Desafio Unidad 4**"
      ],
      "metadata": {
        "id": "N0CBDxOj6aeh"
      }
    },
    {
      "cell_type": "markdown",
      "source": [
        "1 - Crea un programa que tenga la siguiente lista con los gastos de una empresa de papel.\n",
        "\n",
        "```\n",
        "[2172.54, 3701.35, 3518.09, 3456.61, 3249.38, 2840.82, 3891.45, 3075.26, 2317.64, 3219.08]\n",
        "```\n",
        "\n",
        "Con estos valores, crea un programa que calcule el promedio de gastos. Sugerencia: usa las funciones integradas sum() y len()."
      ],
      "metadata": {
        "id": "MyiHWKLw6juE"
      }
    },
    {
      "cell_type": "code",
      "source": [
        "gastos = [2172.54, 3701.35, 3518.09, 3456.61, 3249.38, 2840.82, 3891.45, 3075.26, 2317.64, 3219.08]\n",
        "\n",
        "promedio = sum(gastos)/len(gastos)\n",
        "\n",
        "print (promedio)"
      ],
      "metadata": {
        "colab": {
          "base_uri": "https://localhost:8080/"
        },
        "id": "ARgbC9Cz-uJJ",
        "outputId": "f2c064df-5b34-4f34-d801-628ed02388b2"
      },
      "execution_count": 78,
      "outputs": [
        {
          "output_type": "stream",
          "name": "stdout",
          "text": [
            "3144.222\n"
          ]
        }
      ]
    },
    {
      "cell_type": "markdown",
      "source": [
        "2 - Con los mismos datos de la pregunta anterior, determina cuántas compras se realizaron por encima de 3000 reales y calcula el porcentaje con respecto al total de compras."
      ],
      "metadata": {
        "id": "W1wS2EQh6leg"
      }
    },
    {
      "cell_type": "code",
      "source": [
        "contador = 0\n",
        "\n",
        "for gasto in gastos:\n",
        "  if gasto > 3000:\n",
        "    contador += 1\n",
        "\n",
        "porcentaje3000 = (100*contador)/len(gastos)\n",
        "\n",
        "print(f'Hubo {contador} compras por encima de los 3 mil')\n",
        "print(f'que representan el {porcentaje3000}% del gasto total')"
      ],
      "metadata": {
        "colab": {
          "base_uri": "https://localhost:8080/"
        },
        "id": "Xkuiz65I_yiT",
        "outputId": "e37e18e1-a4c5-4711-c36d-24519ce648cb"
      },
      "execution_count": 80,
      "outputs": [
        {
          "output_type": "stream",
          "name": "stdout",
          "text": [
            "Hubo 7 compras por encima de los 3 mil\n",
            "que representan el 70.0% del gasto total\n"
          ]
        }
      ]
    },
    {
      "cell_type": "markdown",
      "source": [
        "3 - Crea un código que recoja en una lista 5 números enteros aleatorios e imprima la lista. Ejemplo: [1, 4, 7, 2, 4]."
      ],
      "metadata": {
        "id": "RlFjdT5m6naX"
      }
    },
    {
      "cell_type": "code",
      "source": [
        "lista = []\n",
        "\n",
        "for i in range (0,5):\n",
        "  num = int(input('Ingresa un numero entero: '))\n",
        "  lista.append(num)\n",
        "\n",
        "print(f'Numeros ingresados: {lista}')"
      ],
      "metadata": {
        "colab": {
          "base_uri": "https://localhost:8080/"
        },
        "id": "pjri9KOMFSXK",
        "outputId": "cf88d664-0625-439e-92df-baf83c5600f2"
      },
      "execution_count": 81,
      "outputs": [
        {
          "output_type": "stream",
          "name": "stdout",
          "text": [
            "Ingresa un numero entero: 5\n",
            "Ingresa un numero entero: 7\n",
            "Ingresa un numero entero: 6\n",
            "Ingresa un numero entero: 25\n",
            "Ingresa un numero entero: 1\n",
            "Numeros ingresados: [5, 7, 6, 25, 1]\n"
          ]
        }
      ]
    },
    {
      "cell_type": "markdown",
      "source": [
        "4 - Recoge nuevamente 5 números enteros e imprime la lista en orden inverso al enviado."
      ],
      "metadata": {
        "id": "l1Ugp2-L6pEI"
      }
    },
    {
      "cell_type": "code",
      "source": [
        "lista = []\n",
        "\n",
        "for i in range (0,5):\n",
        "  num = int(input('Ingresa un numero entero: '))\n",
        "  lista.append(num)\n",
        "\n",
        "print(f'Numeros ingresados: {lista[::-1]}')"
      ],
      "metadata": {
        "colab": {
          "base_uri": "https://localhost:8080/"
        },
        "id": "HNpEtxzmF-d_",
        "outputId": "dbc10d50-a4f3-4938-d5b7-8036ab281295"
      },
      "execution_count": 83,
      "outputs": [
        {
          "output_type": "stream",
          "name": "stdout",
          "text": [
            "Ingresa un numero entero: 2\n",
            "Ingresa un numero entero: 4\n",
            "Ingresa un numero entero: 9\n",
            "Ingresa un numero entero: 12\n",
            "Ingresa un numero entero: 15\n",
            "Numeros ingresados: [15, 12, 9, 4, 2]\n"
          ]
        }
      ]
    },
    {
      "cell_type": "markdown",
      "source": [
        "5 - Crea un programa que, al ingresar un número cualquiera, genere una lista que contenga todos los números primos entre 1 y el número ingresado."
      ],
      "metadata": {
        "id": "lTNaqW4S6rH5"
      }
    },
    {
      "cell_type": "code",
      "source": [
        "def es_primo(numero):\n",
        "    if numero <= 1:\n",
        "        return False\n",
        "    elif numero == 2:\n",
        "        return True\n",
        "    elif numero % 2 == 0:\n",
        "        return False\n",
        "    i = 3\n",
        "    while i * i <= numero:\n",
        "        if numero % i == 0:\n",
        "            return False\n",
        "        i += 2\n",
        "    return True\n",
        "\n",
        "def generar_lista_primos(limite):\n",
        "    primos_encontrados = []\n",
        "    for num in range(2, limite + 1):\n",
        "        if es_primo(num):\n",
        "            primos_encontrados.append(num)\n",
        "    return primos_encontrados\n",
        "\n",
        "\n",
        "numero_limite = int(input('Ingresa un número entero positivo: '))\n",
        "\n",
        "if numero_limite < 0:\n",
        "  print('No se ingreso un número entero positivo.')\n",
        "else:\n",
        "    lista_de_primos = generar_lista_primos(numero_limite)\n",
        "    print(f'\\nNúmeros primos entre 1 y {numero_limite}:')\n",
        "    if lista_de_primos:\n",
        "        print(lista_de_primos)\n",
        "    else:\n",
        "        print('No se encontraron números primos en ese rango.')"
      ],
      "metadata": {
        "colab": {
          "base_uri": "https://localhost:8080/"
        },
        "id": "JE8AHpbXGgXW",
        "outputId": "eb2ed037-1cd0-4e2b-ee01-fa4fdb04241f"
      },
      "execution_count": 84,
      "outputs": [
        {
          "output_type": "stream",
          "name": "stdout",
          "text": [
            "Ingresa un número entero positivo: 125\n",
            "\n",
            "Números primos entre 1 y 125:\n",
            "[2, 3, 5, 7, 11, 13, 17, 19, 23, 29, 31, 37, 41, 43, 47, 53, 59, 61, 67, 71, 73, 79, 83, 89, 97, 101, 103, 107, 109, 113]\n"
          ]
        }
      ]
    },
    {
      "cell_type": "markdown",
      "source": [
        "6 - Escribe un programa que pida una fecha, especificando el día, mes y año, y determine si es válida para su análisis."
      ],
      "metadata": {
        "id": "px1ae0EV66vb"
      }
    },
    {
      "cell_type": "code",
      "source": [
        "dia = int(input('Ingresa el día: '))\n",
        "mes = int(input('Ingresa el mes: '))\n",
        "año = int(input('Ingresa el año: '))\n",
        "\n",
        "if mes == 2:  # Verificamos si es o no un año bisiesto\n",
        "  if año % 4 == 0 and (año % 400 == 0 or año % 100 != 0):\n",
        "    dias_febrero = 29\n",
        "  else:\n",
        "    dias_febrero = 28\n",
        "\n",
        "  if dia >= 1 and dia <= dias_febrero:\n",
        "    print('Fecha válida')\n",
        "  else:\n",
        "    print('Fecha inválida')\n",
        "\n",
        "elif mes in [1, 3, 5, 7, 8, 10, 12]:\n",
        "  if dia >= 1 and dia <= 31:\n",
        "    print('Fecha válida')\n",
        "  else:\n",
        "    print('Fecha inválida')\n",
        "\n",
        "elif mes in [4, 6, 9, 11]:\n",
        "  if dia >= 1 and dia <= 30:\n",
        "    print('Fecha válida')\n",
        "  else:\n",
        "    print('Fecha inválida')\n",
        "\n",
        "else:\n",
        "  print('Fecha inválida')\n"
      ],
      "metadata": {
        "colab": {
          "base_uri": "https://localhost:8080/"
        },
        "id": "714e5nwgH1nf",
        "outputId": "f1fe7d14-072a-4510-bb64-29c27b000408"
      },
      "execution_count": 88,
      "outputs": [
        {
          "output_type": "stream",
          "name": "stdout",
          "text": [
            "Ingresa el día: 29\n",
            "Ingresa el mes: 02\n",
            "Ingresa el año: 2024\n",
            "Fecha válida\n"
          ]
        }
      ]
    },
    {
      "cell_type": "markdown",
      "source": [
        "7 - Para un estudio sobre la multiplicación de bacterias en una colonia, se recopiló el número de bacterias multiplicadas por día y se puede observar a continuación:\n",
        "\n",
        "`[1.2, 2.1, 3.3, 5.0, 7.8, 11.3, 16.6, 25.1, 37.8, 56.9]`\n",
        "\n",
        "Con estos valores, crea un código que genere una lista que contenga el porcentaje de crecimiento de bacterias por día, comparando el número de bacterias en cada día con el número de bacterias del día anterior. Sugerencia: para calcular el porcentaje de crecimiento, utiliza la siguiente ecuación:\n",
        "\n",
        "`100 * (muestra_actual - muestra_anterior) / muestra_anterior.`"
      ],
      "metadata": {
        "id": "qaRJuQF069Xw"
      }
    },
    {
      "cell_type": "code",
      "source": [
        "muestras_bacterias = [1.2, 2.1, 3.3, 5.0, 7.8, 11.3, 16.6, 25.1, 37.8, 56.9]\n",
        "porcentajes = []\n",
        "\n",
        "for i in range(1,len(muestras_bacterias)):\n",
        "  porcentajes.append(100*(muestras_bacterias[i]-muestras_bacterias[i-1])/muestras_bacterias[i-1])\n",
        "\n",
        "print(porcentajes)"
      ],
      "metadata": {
        "colab": {
          "base_uri": "https://localhost:8080/"
        },
        "id": "IZU3U5sGJKXs",
        "outputId": "4ae45152-b8c0-43ef-a089-22b1491f2385"
      },
      "execution_count": 93,
      "outputs": [
        {
          "output_type": "stream",
          "name": "stdout",
          "text": [
            "[75.00000000000001, 57.142857142857125, 51.51515151515153, 56.0, 44.87179487179489, 46.90265486725664, 51.20481927710843, 50.59760956175297, 50.52910052910054]\n"
          ]
        }
      ]
    },
    {
      "cell_type": "markdown",
      "source": [
        "8 - Para una selección de productos alimenticios, debemos separar el conjunto de IDs proporcionados por números enteros, sabiendo que los productos con ID par son dulces y los que tienen ID impar son amargos. Crea un código que recoja 10 IDs. Luego, calcula y muestra la cantidad de productos dulces y amargos."
      ],
      "metadata": {
        "id": "KDRu7JuB6-zd"
      }
    },
    {
      "cell_type": "code",
      "source": [
        "contador_pares = 0\n",
        "contador_impares = 0\n",
        "\n",
        "for i in range(0,10):\n",
        "  id = int(input('Ingresa el ID del producto: '))\n",
        "  if id % 2== 0:\n",
        "    contador_pares += 1\n",
        "  else:\n",
        "    contador_impares +=1\n",
        "\n",
        "print(f'Cantidad de productos dulces: {contador_pares}')\n",
        "print(f'Cantidad de productos amargos: {contador_impares}')"
      ],
      "metadata": {
        "colab": {
          "base_uri": "https://localhost:8080/"
        },
        "id": "fWRRasSzNTUS",
        "outputId": "00d529d4-fa87-4c80-8fee-572b35377287"
      },
      "execution_count": 97,
      "outputs": [
        {
          "output_type": "stream",
          "name": "stdout",
          "text": [
            "Ingresa el ID del producto: 5\n",
            "Ingresa el ID del producto: 1\n",
            "Ingresa el ID del producto: 6\n",
            "Ingresa el ID del producto: 7\n",
            "Ingresa el ID del producto: 121\n",
            "Ingresa el ID del producto: 2154\n",
            "Ingresa el ID del producto: 454\n",
            "Ingresa el ID del producto: 54\n",
            "Ingresa el ID del producto: 7\n",
            "Ingresa el ID del producto: 9\n",
            "Cantidad de productos dulces: 4\n",
            "Cantidad de productos amargos: 6\n"
          ]
        }
      ]
    },
    {
      "cell_type": "markdown",
      "source": [
        "9 - Desarrolla un programa que informe la puntuación de un estudiante de acuerdo con sus respuestas. Debe pedir la respuesta del estudiante para cada pregunta y verificar si la respuesta coincide con el resultado. Cada pregunta vale un punto y hay opciones A, B, C o D.\n",
        "\n",
        "Resultado del examen:\n",
        "\n",
        "* 01 - D\n",
        "* 02 - A\n",
        "* 03 - C\n",
        "* 04 - B\n",
        "* 05 - A\n",
        "* 06 - D\n",
        "* 07 - C\n",
        "* 08 - C\n",
        "* 09 - A\n",
        "* 10 - B"
      ],
      "metadata": {
        "id": "gn7rZtJa7AmL"
      }
    },
    {
      "cell_type": "code",
      "source": [
        "respuestas_correctas = {\n",
        "                        '01': 'D',\n",
        "                        '02': 'A',\n",
        "                        '03': 'C',\n",
        "                        '04': 'B',\n",
        "                        '05': 'A',\n",
        "                        '06': 'D',\n",
        "                        '07': 'C',\n",
        "                        '08': 'C',\n",
        "                        '09': 'A',\n",
        "                        '10': 'B'\n",
        "                       }\n",
        "\n",
        "contador_correctas = 0\n",
        "\n",
        "print('Examen\\nA continuacion ingresa la respuesta segun corresponda\\n')\n",
        "\n",
        "for pregunta, respuesta in respuestas_correctas.items():\n",
        "  respuesta_alumno = input(f'Ingresa tu respuesta a {pregunta}: ').upper()\n",
        "  if respuesta_alumno == respuesta:\n",
        "    contador_correctas += 1\n",
        "\n",
        "print(f'\\n Tu puntaje es: {contador_correctas}')\n",
        "\n",
        "\n"
      ],
      "metadata": {
        "colab": {
          "base_uri": "https://localhost:8080/"
        },
        "id": "qmTU4oT4PFfH",
        "outputId": "e644ed02-5c51-4782-f528-2fe725e9cf6c"
      },
      "execution_count": 103,
      "outputs": [
        {
          "output_type": "stream",
          "name": "stdout",
          "text": [
            "Examen\n",
            "A continuacion ingresa la respuesta segun corresponda\n",
            "\n",
            "Ingresa tu respuesta a 01: d\n",
            "Ingresa tu respuesta a 02: a\n",
            "Ingresa tu respuesta a 03: b\n",
            "Ingresa tu respuesta a 04: c\n",
            "Ingresa tu respuesta a 05: d\n",
            "Ingresa tu respuesta a 06: a\n",
            "Ingresa tu respuesta a 07: c\n",
            "Ingresa tu respuesta a 08: c\n",
            "Ingresa tu respuesta a 09: a\n",
            "Ingresa tu respuesta a 10: b\n",
            "\n",
            " Tu puntaje es: 6\n"
          ]
        }
      ]
    },
    {
      "cell_type": "markdown",
      "source": [
        "10 - Un instituto de meteorología desea realizar un estudio de la temperatura media de cada mes del año. Para ello, debes crear un código que recoja y almacene esas temperaturas medias en una lista. Luego, calcula el promedio anual de las temperaturas y muestra todas las temperaturas por encima del promedio anual y en qué mes ocurrieron, mostrando los meses por su nombre (Enero, Febrero, etc.)."
      ],
      "metadata": {
        "id": "17Rqd_sr7Fj_"
      }
    },
    {
      "cell_type": "code",
      "source": [
        "meses = {\n",
        "          'Enero':0,\n",
        "          'Febrero':0,\n",
        "          'Marzo': 0,\n",
        "          'Abril': 0,\n",
        "          'Mayo': 0,\n",
        "          'Junio': 0,\n",
        "          'Julio': 0,\n",
        "          'Agosto': 0,\n",
        "          'Septiembre': 0,\n",
        "          'Octubre': 0,\n",
        "          'Noviembre': 0,\n",
        "          'Diciembre': 0\n",
        "        }\n",
        "for mes, temperatura in meses.items():\n",
        "  meses[mes] = float(input(f'Ingrese la temperatura promedio de {mes}: '))\n",
        "\n",
        "media_anual = sum(meses.values()) / len(meses)\n",
        "\n",
        "print('\\nTenemos temperaturas por encima del promedio en: \\n')\n",
        "for mes, temperatura in meses.items():\n",
        "  if temperatura > media_anual:\n",
        "    print(mes)\n"
      ],
      "metadata": {
        "colab": {
          "base_uri": "https://localhost:8080/"
        },
        "id": "wTgxuvJ1WSgf",
        "outputId": "3732a1ce-08b2-4185-e8bc-ed2b916b1148"
      },
      "execution_count": 107,
      "outputs": [
        {
          "output_type": "stream",
          "name": "stdout",
          "text": [
            "Ingrese la temperatura promedio de Enero: 9\n",
            "Ingrese la temperatura promedio de Febrero: 14\n",
            "Ingrese la temperatura promedio de Marzo: 19\n",
            "Ingrese la temperatura promedio de Abril: 20\n",
            "Ingrese la temperatura promedio de Mayo: 22\n",
            "Ingrese la temperatura promedio de Junio: 27\n",
            "Ingrese la temperatura promedio de Julio: 27\n",
            "Ingrese la temperatura promedio de Agosto: 22\n",
            "Ingrese la temperatura promedio de Septiembre: 19\n",
            "Ingrese la temperatura promedio de Octubre: 14\n",
            "Ingrese la temperatura promedio de Noviembre: 12\n",
            "Ingrese la temperatura promedio de Diciembre: 8\n",
            "\n",
            "Tenemos temperaturas por encima del promedio en: \n",
            "\n",
            "Marzo\n",
            "Abril\n",
            "Mayo\n",
            "Junio\n",
            "Julio\n",
            "Agosto\n",
            "Septiembre\n"
          ]
        }
      ]
    },
    {
      "cell_type": "markdown",
      "source": [
        "11 - Una empresa de comercio electrónico está interesada en analizar las ventas de sus productos. Los datos de ventas se han almacenado en un diccionario:\n",
        "\n",
        "`{'Producto A': 300, 'Producto B': 80, 'Producto C': 60, 'Producto D': 200, 'Producto E': 250, 'Producto F': 30}`\n",
        "\n",
        "Escribe un código que calcule el total de ventas y el producto más vendido."
      ],
      "metadata": {
        "id": "Fd0QFW-37hEm"
      }
    },
    {
      "cell_type": "code",
      "source": [
        "ventas = {\n",
        "          'Producto A': 300,\n",
        "          'Producto B': 80,\n",
        "          'Producto C': 60,\n",
        "          'Producto D': 200,\n",
        "          'Producto E': 250,\n",
        "          'Producto F': 30\n",
        "         }\n",
        "print(f'El total de ventas fue de {sum(ventas.values())}')\n",
        "producto_mas_vendido = max(ventas, key=ventas.get)\n",
        "print(f'El producto mas vendio es {producto_mas_vendido}')"
      ],
      "metadata": {
        "colab": {
          "base_uri": "https://localhost:8080/"
        },
        "id": "3zyLP2zkaZjM",
        "outputId": "0829c156-8530-4e17-bf8d-219c7a918713"
      },
      "execution_count": 113,
      "outputs": [
        {
          "output_type": "stream",
          "name": "stdout",
          "text": [
            "El total de ventas fue de 920\n",
            "El producto mas vendio es Producto A\n"
          ]
        }
      ]
    },
    {
      "cell_type": "markdown",
      "source": [
        "12 - Se realizó una encuesta de mercado para decidir cuál diseño de marca infantil es más atractivo para los niños. Los votos de la encuesta se pueden ver a continuación:\n",
        "\n",
        "Tabla de votos de la marca\n",
        "\n",
        "* Diseño 1 - 1334 votos\n",
        "* Diseño 2 - 982 votos\n",
        "* Diseño 3 - 1751 votos\n",
        "* Diseño 4 - 210 votos\n",
        "* Diseño 5 - 1811 votos\n",
        "\n",
        "Adapta los datos proporcionados a una estructura de diccionario. A partir de ello, informa el diseño ganador y el porcentaje de votos recibidos."
      ],
      "metadata": {
        "id": "LrX2NlPj7kEg"
      }
    },
    {
      "cell_type": "code",
      "source": [
        "disenios = {\n",
        "            'Diseño 1': 1334,\n",
        "            'Diseño 2': 982,\n",
        "            'Diseño 3': 1751,\n",
        "            'Diseño 4': 210,\n",
        "            'Diseño 5': 1811\n",
        "           }\n",
        "\n",
        "disenio_mas_vendido = max(disenios, key=disenios.get)\n",
        "porcentaje = (100/sum(disenios.values()))*disenios[disenio_mas_vendido]\n",
        "\n",
        "print(f'El diseño ganador es  {disenio_mas_vendido}')\n",
        "\n",
        "print(f'con un {porcentaje:.2f}% de votos')\n",
        "\n"
      ],
      "metadata": {
        "colab": {
          "base_uri": "https://localhost:8080/"
        },
        "id": "2veaGVLbdg3f",
        "outputId": "3fd2b226-6ad0-4b36-8475-6ea3bc2562e8"
      },
      "execution_count": 119,
      "outputs": [
        {
          "output_type": "stream",
          "name": "stdout",
          "text": [
            "El diseño ganador es  Diseño 5\n",
            "con un 29.75% de votos\n"
          ]
        }
      ]
    },
    {
      "cell_type": "markdown",
      "source": [
        "13 - Los empleados de un departamento de tu empresa recibirán una bonificación del 10% de su salario debido a un excelente rendimiento del equipo. El departamento de finanzas ha solicitado tu ayuda para verificar las consecuencias financieras de esta bonificación en los recursos. Se te ha enviado una lista con los salarios que recibirán la bonificación:\n",
        "\n",
        "`[1172, 1644, 2617, 5130, 5532, 6341, 6650, 7238, 7685, 7782, 7903]`\n",
        "\n",
        "La bonificación de cada empleado no puede ser inferior a 200. En el código, convierte cada uno de los salarios en claves de un diccionario y la bonificación de cada salario en el valor correspondiente. Luego, informa el gasto total en bonificaciones, cuántos empleados recibieron la bonificación mínima y cuál fue el valor más alto de la bonificación proporcionada."
      ],
      "metadata": {
        "id": "uGD5vvYN7yFm"
      }
    },
    {
      "cell_type": "code",
      "source": [
        "bonificaciones = {\n",
        "                  1172:200,\n",
        "                  1644:200,\n",
        "                  2617:200,\n",
        "                  5130:200,\n",
        "                  5532:200,\n",
        "                  6341:200,\n",
        "                  6650:200,\n",
        "                  7238:200,\n",
        "                  7685:200,\n",
        "                  7782:200,\n",
        "                  7903:200\n",
        "                 }\n",
        "\n",
        "empleados_bonificacion_minima = 0\n",
        "\n",
        "for empleado in bonificaciones:\n",
        "  bonificacion = (empleado/100)*10\n",
        "  if bonificacion > 200:\n",
        "    bonificaciones[empleado] = bonificacion\n",
        "  else:\n",
        "    empleados_bonificacion_minima += 1 #empleados_bonificacion_minima = sum(1 for valor in bonificaciones.values() if valor == 200)\n",
        "\n",
        "total_bonificaciones = sum(bonificaciones.values())\n",
        "\n",
        "empleado_mayor_bonificacion = max(bonificaciones, key=bonificaciones.get)\n",
        "valor_mas_alto = bonificaciones[empleado_mayor_bonificacion]\n",
        "\n",
        "print(f'El gasto total en bonificaciones seria: ${total_bonificaciones},')\n",
        "print(f'{empleados_bonificacion_minima} empleados recibirian la bonificacion minima,')\n",
        "print(f'y la bonificacion mas alta es de: ${valor_mas_alto}')"
      ],
      "metadata": {
        "colab": {
          "base_uri": "https://localhost:8080/"
        },
        "id": "tq-CPQZrhavF",
        "outputId": "c5a05260-5579-434b-eb2f-485d1e4523bc"
      },
      "execution_count": 131,
      "outputs": [
        {
          "output_type": "stream",
          "name": "stdout",
          "text": [
            "El gasto total en bonificaciones seria: $6087.8,\n",
            "2 empleados recibirian la bonificacion minima,\n",
            "y la bonificacion mas alta es de: $790.3\n"
          ]
        }
      ]
    },
    {
      "cell_type": "markdown",
      "source": [
        "14 - Un equipo de científicos de datos está estudiando la diversidad biológica en un bosque. El equipo recopiló información sobre el número de especies de plantas y animales en cada área del bosque y almacenó estos datos en un diccionario. En él, la clave describe el área de los datos y los valores en las listas corresponden a las especies de plantas y animales en esas áreas, respectivamente.\n",
        "\n",
        "\n",
        "\n",
        "```\n",
        "{'Área Norte': [2819, 7236], 'Área Leste': [1440, 9492], 'Área Sul': [5969, 7496], 'Área Oeste': [14446, 49688], 'Área Centro': [22558, 45148]}\n",
        "```\n",
        "\n",
        "Escribe un código para calcular el promedio de especies por área e identificar el área con la mayor diversidad biológica. Sugerencia: utiliza las funciones incorporadas sum() y len()."
      ],
      "metadata": {
        "id": "x7pRdq_28HE6"
      }
    },
    {
      "cell_type": "code",
      "source": [
        "datos = {\n",
        "          'Área Norte': [2819, 7236],\n",
        "          'Área Este': [1440, 9492],\n",
        "          'Área Sur': [5969, 7496],\n",
        "          'Área Oeste': [14446, 49688],\n",
        "          'Área Centro': [22558, 45148]\n",
        "        }\n",
        "\n",
        "print(\"--- Diversidad de Especies por Área ---\")\n",
        "\n",
        "area_mas_diversa = \"\"\n",
        "max_especies_total = 0\n",
        "\n",
        "for area, especies_lista in datos.items():\n",
        "    plantas = especies_lista[0]\n",
        "    animales = especies_lista[1]\n",
        "    total_especies_area = plantas + animales\n",
        "\n",
        "    promedio_especies_por_tipo = total_especies_area / 2\n",
        "\n",
        "    print(f\"  {area}: Total de especies = {total_especies_area}, Promedio por tipo (plantas/animales) = {promedio_especies_por_tipo:.2f}\")\n",
        "\n",
        "    if total_especies_area > max_especies_total:\n",
        "        max_especies_total = total_especies_area\n",
        "        area_mas_diversa = area\n",
        "\n",
        "\n",
        "print(\"\\n--- Resultado Final ---\")\n",
        "print(f\"El área con la MAYOR DIVERSIDAD BIOLÓGICA es: '{area_mas_diversa}'\")\n",
        "print(f\"Con un total de {max_especies_total} especies (plantas + animales).\")"
      ],
      "metadata": {
        "colab": {
          "base_uri": "https://localhost:8080/"
        },
        "id": "d89DTDaYnute",
        "outputId": "287e1f59-a4c9-49f9-89df-85ae13361483"
      },
      "execution_count": 135,
      "outputs": [
        {
          "output_type": "stream",
          "name": "stdout",
          "text": [
            "--- Diversidad de Especies por Área ---\n",
            "  Área Norte: Total de especies = 10055, Promedio por tipo (plantas/animales) = 5027.50\n",
            "  Área Este: Total de especies = 10932, Promedio por tipo (plantas/animales) = 5466.00\n",
            "  Área Sur: Total de especies = 13465, Promedio por tipo (plantas/animales) = 6732.50\n",
            "  Área Oeste: Total de especies = 64134, Promedio por tipo (plantas/animales) = 32067.00\n",
            "  Área Centro: Total de especies = 67706, Promedio por tipo (plantas/animales) = 33853.00\n",
            "\n",
            "--- Resultado Final ---\n",
            "El área con la MAYOR DIVERSIDAD BIOLÓGICA es: 'Área Centro'\n",
            "Con un total de 67706 especies (plantas + animales).\n"
          ]
        }
      ]
    },
    {
      "cell_type": "markdown",
      "source": [
        "15 - El departamento de Recursos Humanos de tu empresa te pidió ayuda para analizar las edades de los colaboradores de 4 sectores de la empresa. Para ello, te proporcionaron los siguientes datos:\n",
        "\n",
        "\n",
        "\n",
        "```\n",
        "{'Setor A': [22, 26, 30, 30, 35, 38, 40, 56, 57, 65],\n",
        " 'Setor B': [22, 24, 26, 33, 41, 49, 50, 54, 60, 64],\n",
        " 'Setor C': [23, 26, 26, 29, 34, 35, 36, 41, 52, 56],\n",
        " 'Setor D': [19, 20, 25, 27, 34, 39, 42, 44, 50, 65]}\n",
        "```\n",
        "\n",
        "Dado que cada sector tiene 10 colaboradores, construye un código que calcule la media de edad de cada sector, la edad media general entre todos los sectores y cuántas personas están por encima de la edad media general."
      ],
      "metadata": {
        "id": "XGPSS6u58RwC"
      }
    },
    {
      "cell_type": "code",
      "source": [
        "datos = {\n",
        "          'Setor A': [22, 26, 30, 30, 35, 38, 40, 56, 57, 65],\n",
        "          'Setor B': [22, 24, 26, 33, 41, 49, 50, 54, 60, 64],\n",
        "          'Setor C': [23, 26, 26, 29, 34, 35, 36, 41, 52, 56],\n",
        "          'Setor D': [19, 20, 25, 27, 34, 39, 42, 44, 50, 65]\n",
        "         }\n",
        "\n",
        "\n",
        "total_suma_edades = 0\n",
        "total_suma_colaboradores = 0\n",
        "\n",
        "print('Medias en los sectores:\\n')\n",
        "\n",
        "for sector, edades in datos.items():\n",
        "  suma_edades = sum(edades)\n",
        "  suma_colaboradoes = len(edades)\n",
        "  total_suma_edades += suma_edades\n",
        "  total_suma_colaboradores += suma_colaboradoes\n",
        "  media = suma_edades/suma_colaboradoes\n",
        "  print(f'Para el {sector}, la edad media es {media}.')\n",
        "\n",
        "media_general = total_suma_edades/total_suma_colaboradores\n",
        "print(f'\\nMedia general en todos los sectores es de: {media_general}\\n')\n",
        "\n",
        "colaboradores_encima_media = sum(sum(1 for i in edades if i > media_general) for edades in datos.values())\n",
        "\n",
        "print(f'Los colaboradores encima de la media son {colaboradores_encima_media}')\n",
        ""
      ],
      "metadata": {
        "colab": {
          "base_uri": "https://localhost:8080/"
        },
        "id": "pkwjNmSTw5db",
        "outputId": "6726a7f3-6cfd-48dd-afcc-2e4d65a214fa"
      },
      "execution_count": 146,
      "outputs": [
        {
          "output_type": "stream",
          "name": "stdout",
          "text": [
            "Medias en los sectores:\n",
            "\n",
            "Para el Setor A, la edad media es 39.9.\n",
            "Para el Setor B, la edad media es 42.3.\n",
            "Para el Setor C, la edad media es 35.8.\n",
            "Para el Setor D, la edad media es 36.5.\n",
            "\n",
            "Media general en todos los sectores es de: 38.625\n",
            "\n",
            "Los colaboradores encima de la media son 18\n"
          ]
        }
      ]
    }
  ]
}